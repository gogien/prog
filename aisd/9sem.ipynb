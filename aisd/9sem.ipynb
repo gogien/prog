{
 "cells": [
  {
   "cell_type": "code",
   "execution_count": 8,
   "id": "984249fb",
   "metadata": {},
   "outputs": [],
   "source": [
    "l1 = ['1', '123', '123', '12', '1', '123']\n",
    "l2 = [2, 4, -2, -3, 0 , 11 , 3 -1]\n",
    "\n",
    "d4 = {1: 10, 2: 20, 3: 30, 4: 40, 5: 50, 6: 60}\n",
    "d5 = {'a': 3, 'b': 4, 'c': 5, 'd': 6, 'e': 7, 'f': 8, 'g': 9}\n",
    "d6 = {'e': 20, 'f': 21, 'g': 22, 'h': 23, 'i': 24, 'j': 25, 'k': 26, 'l': 27}"
   ]
  },
  {
   "cell_type": "markdown",
   "id": "48d63011",
   "metadata": {},
   "source": [
    "4.13) Используя список l1 создать список, в котором каждый элемент списка l1 будет заменен значением длинны строки соответствующего элемента в списке l1. Использовать генераторы, решить задачу в одну строку."
   ]
  },
  {
   "cell_type": "code",
   "execution_count": 9,
   "id": "afa46392",
   "metadata": {},
   "outputs": [
    {
     "name": "stdout",
     "output_type": "stream",
     "text": [
      "[1, 3, 3, 2, 1, 3]\n"
     ]
    }
   ],
   "source": [
    "print([len(x) for x in l1])"
   ]
  },
  {
   "cell_type": "markdown",
   "id": "223cd1d5",
   "metadata": {},
   "source": [
    "4.14) Подсчитать количество строк в списке l1, длина которых больше 2х. Использовать генераторы, решить задачу в одну строку."
   ]
  },
  {
   "cell_type": "code",
   "execution_count": 10,
   "id": "44da383a",
   "metadata": {},
   "outputs": [
    {
     "name": "stdout",
     "output_type": "stream",
     "text": [
      "3\n",
      "3\n"
     ]
    }
   ],
   "source": [
    "print(sum(len(x) > 2 for x in l1)) #решение 1\n",
    "print(len([x for x in l1 if len(x)>2])) #решение 2"
   ]
  },
  {
   "cell_type": "markdown",
   "id": "6ea09907",
   "metadata": {},
   "source": [
    "4.15) Просуммировать произведение ключей на значения словаря d4."
   ]
  },
  {
   "cell_type": "code",
   "execution_count": 11,
   "id": "cc7f55da",
   "metadata": {},
   "outputs": [
    {
     "name": "stdout",
     "output_type": "stream",
     "text": [
      "910\n"
     ]
    }
   ],
   "source": [
    "print(sum(key * value for key, value in d4.items()))"
   ]
  },
  {
   "cell_type": "markdown",
   "id": "67a35318",
   "metadata": {},
   "source": [
    "4.16) На базе словаря d6 составить словарь d7 в котором нет пар ключ-значение с ключами, встречающимися в словаре d5. Использовать генераторы, решить задачу в одну строку."
   ]
  },
  {
   "cell_type": "code",
   "execution_count": 12,
   "id": "85c58daf",
   "metadata": {},
   "outputs": [
    {
     "data": {
      "text/plain": [
       "{'h': 23, 'i': 24, 'j': 25, 'k': 26, 'l': 27}"
      ]
     },
     "execution_count": 12,
     "metadata": {},
     "output_type": "execute_result"
    }
   ],
   "source": [
    "{key: value for key, value in d6.items() if key not in d5}"
   ]
  },
  {
   "cell_type": "markdown",
   "id": "512a750d",
   "metadata": {},
   "source": [
    "4.17) Создать список, в котором все числа списка l2 умножены на их номер в списке, остальные элементы сохранены на своих местах. Использовать генераторы, решить задачу в одну строку."
   ]
  },
  {
   "cell_type": "code",
   "execution_count": 13,
   "id": "cec88a8e",
   "metadata": {},
   "outputs": [
    {
     "data": {
      "text/plain": [
       "[0, 4, -4, -9, 0, 55, 12]"
      ]
     },
     "execution_count": 13,
     "metadata": {},
     "output_type": "execute_result"
    }
   ],
   "source": [
    "[num * i if isinstance(num, int) else num for i, num in enumerate(l2)]"
   ]
  },
  {
   "cell_type": "markdown",
   "id": "6e3f4c4f",
   "metadata": {},
   "source": [
    "4.18) Создать список, в котором все отрицательные числа списка l2 исключены, остальные элементы сохранены на своих местах. Использовать генераторы, решить задачу в одну строку.\n"
   ]
  },
  {
   "cell_type": "code",
   "execution_count": 14,
   "id": "ba7db17c",
   "metadata": {},
   "outputs": [
    {
     "name": "stdout",
     "output_type": "stream",
     "text": [
      "[2, 4, 0, 11, 2]\n"
     ]
    }
   ],
   "source": [
    "print([x for x in l2 if x >=0])"
   ]
  },
  {
   "cell_type": "markdown",
   "id": "f96c55c8",
   "metadata": {},
   "source": [
    "4.19) Создать список, в котором все отрицательные числа списка l2 заменены на их номер в списке, остальные элементы сохранены на своих местах. Использовать генераторы и тернарный оператор, решить задачу в одну строку."
   ]
  },
  {
   "cell_type": "code",
   "execution_count": 15,
   "id": "b22849b1",
   "metadata": {},
   "outputs": [
    {
     "data": {
      "text/plain": [
       "[2, 4, 2, 3, 0, 11, 2]"
      ]
     },
     "execution_count": 15,
     "metadata": {},
     "output_type": "execute_result"
    }
   ],
   "source": [
    "[num if num >= 0 else i for i, num in enumerate(l2)]"
   ]
  },
  {
   "cell_type": "markdown",
   "id": "1ba9ef0c",
   "metadata": {},
   "source": [
    "5.1) Написать задокументированную функцию умножения двух чисел. Для каких типов данная функция будет возвращать практически ценный результат? Написать примеры использования этой функции."
   ]
  },
  {
   "cell_type": "code",
   "execution_count": 16,
   "id": "f7011078",
   "metadata": {},
   "outputs": [
    {
     "name": "stdout",
     "output_type": "stream",
     "text": [
      "35\n",
      "13.85\n",
      "-16.25\n"
     ]
    }
   ],
   "source": [
    "def multiply(a, b):\n",
    "    \"\"\"\n",
    "    Функция принимает два числа и возвращает их произведение.\n",
    "\n",
    "    Args:\n",
    "    a (int, float): Первое число для умножения.\n",
    "    b (int, float): Второе число для умножения.\n",
    "\n",
    "    Returns:\n",
    "    int, float: Произведение двух чисел.\n",
    "\n",
    "    Пример использования:\n",
    "    >>> multiply(7, 5)\n",
    "    35\n",
    "    \"\"\"\n",
    "    return a * b\n",
    "print(multiply(7, 5))\n",
    "print(multiply(2.77, 5)) \n",
    "print(multiply(-3.25, 5))"
   ]
  },
  {
   "cell_type": "markdown",
   "id": "55c778d1",
   "metadata": {},
   "source": [
    "5.2) Написать функцию умножения принимающую от одного до трех параметров. Написать примеры использования этой функции с разным количеством параметров."
   ]
  },
  {
   "cell_type": "code",
   "execution_count": 17,
   "id": "788ce4c8",
   "metadata": {},
   "outputs": [
    {
     "name": "stdout",
     "output_type": "stream",
     "text": [
      "64\n",
      "6\n",
      "1680\n"
     ]
    }
   ],
   "source": [
    "def multiply(*args): #задаем функцию с неограниченным кол-вом элементов *\n",
    "    result = 1 #задаем переменную и приравниваем к единице для корректного умножения\n",
    "    for num in args: #циклом проходимся по всем элементам в *args\n",
    "        result *= num #для каждого аргумента num в кортеже args, значение переменной result умножается на это число\n",
    "    return result #ну и следовательно выводим результат\n",
    "print(multiply(4, 4, 4)) \n",
    "print(multiply(2, 3)) \n",
    "print(multiply(5, 6, 7, 8)) "
   ]
  },
  {
   "cell_type": "markdown",
   "id": "926e3ba9",
   "metadata": {},
   "source": [
    "5.3) Функцию из задания 2 вызвать с приведенными ниже аргументами. Для случая a4 выбрать 3 первых и 3 последних значения.\n",
    "a1 = (15, 10 ,5)\n",
    "a2 = (3, 1)\n",
    "a3 = [2, 35, 55]\n",
    "a4 = (5, 10 ,15, 20)\n"
   ]
  },
  {
   "cell_type": "code",
   "execution_count": 19,
   "id": "d0b9a1d4",
   "metadata": {},
   "outputs": [],
   "source": [
    "a1 = (15, 10, 5)\n",
    "a2 = (3, 1)\n",
    "a3 = [2, 35, 55]\n",
    "a4 = (5, 10, 15, 20)\n",
    "a4a = a4[:3]\n",
    "a4b = a4[1:]"
   ]
  },
  {
   "cell_type": "code",
   "execution_count": 20,
   "id": "a4121ae7",
   "metadata": {},
   "outputs": [
    {
     "name": "stdout",
     "output_type": "stream",
     "text": [
      "750\n",
      "3\n",
      "3850\n",
      "750\n",
      "3000\n",
      "2250000\n"
     ]
    }
   ],
   "source": [
    "def multiply(*args): #задаем функцию с неограниченным кол-вом элементов *\n",
    "    result = 1 #задаем переменную и приравниваем к единице для корректного умножения\n",
    "    for num in args: #циклом проходимся по всем элементам в *args\n",
    "        result *= num #для каждого аргумента num в кортеже args, значение переменной result умножается на это число\n",
    "    return result #ну и следовательно выводим результат\n",
    "\n",
    "print(multiply(*a1))\n",
    "print(multiply(*a2))\n",
    "print(multiply(*a3))\n",
    "a4a = a4[:3]\n",
    "a4b = a4[-3:]\n",
    "print(multiply(*a4a))\n",
    "print(multiply(*a4b))\n",
    "print(multiply(*a4a, *a4b))"
   ]
  },
  {
   "cell_type": "markdown",
   "id": "09ceb60f",
   "metadata": {},
   "source": [
    "5.4) Реализовать функцию умножения, принимающую неограниченное количество значений. Написать примеры использования этой функции, в том числе с аргументами из задания 3."
   ]
  },
  {
   "cell_type": "code",
   "execution_count": 21,
   "id": "5ab9fe3f",
   "metadata": {},
   "outputs": [
    {
     "name": "stdout",
     "output_type": "stream",
     "text": [
      "750\n",
      "3\n",
      "3850\n",
      "750\n",
      "3000\n",
      "1024\n"
     ]
    }
   ],
   "source": [
    "def multiply(*args): #задаем функцию с неограниченным кол-вом элементов *\n",
    "    result = 1 #задаем переменную и приравниваем к единице для корректного умножения\n",
    "    for num in args: #циклом проходимся по всем элементам в *args\n",
    "        result *= num #для каждого аргумента num в кортеже args, значение переменной result умножается на это число\n",
    "    return result #ну и следовательно выводим результат\n",
    "print(multiply(*a1))\n",
    "print(multiply(*a2))\n",
    "print(multiply(*a3))\n",
    "print(multiply(*a4a))\n",
    "print(multiply(*a4b))\n",
    "a5 = (2, 2, 2, 2, 2, 2, 2, 2, 2, 2)\n",
    "print(multiply(*a5))"
   ]
  },
  {
   "cell_type": "markdown",
   "id": "7b41d05a",
   "metadata": {},
   "source": [
    "5.5) Реализовать функции для выполнения четырех арифметических операций преобразующих целые числа в целое число. Для двух заранее заданных целых чисел выполнить выбранную пользователем арифметическую операцию."
   ]
  },
  {
   "cell_type": "code",
   "execution_count": 22,
   "id": "24ff9183",
   "metadata": {},
   "outputs": [
    {
     "name": "stdout",
     "output_type": "stream",
     "text": [
      "Выберите операцию (+, -, *, /): +\n",
      "Результат: 15\n"
     ]
    }
   ],
   "source": [
    "def add(x, y):\n",
    "    return x + y\n",
    "\n",
    "def subtract(x, y):\n",
    "    return x - y\n",
    "\n",
    "def multiply(x, y):\n",
    "    return x * y\n",
    "\n",
    "def divide(x, y):\n",
    "    if y == 0:\n",
    "        return \"Ошибка: деление на ноль\"\n",
    "    return x / y\n",
    "\n",
    "#задаем целые числа\n",
    "num1 = 10\n",
    "num2 = 5\n",
    "\n",
    "# Выбор пользователем арифметической операции\n",
    "operation = input(\"Выберите операцию (+, -, *, /): \")\n",
    "\n",
    "if operation == '+':\n",
    "    result = add(num1, num2)\n",
    "elif operation == '-':\n",
    "    result = subtract(num1, num2)\n",
    "elif operation == '*':\n",
    "    result = multiply(num1, num2)\n",
    "elif operation == '/':\n",
    "    result = divide(num1, num2)\n",
    "else:\n",
    "    result = \"Некорректная операция\"\n",
    "\n",
    "print(f\"Результат: {result}\")\n"
   ]
  },
  {
   "cell_type": "markdown",
   "id": "0f9ef6e6",
   "metadata": {},
   "source": [
    "5.6) Написать калькулятор для строковых выражений вида '<число> <операция> <число>', где <число> - целое число, например 113, <арифметическая операция> - одна из операций +,-,*,/(деление нацело),%(остаток от деления),^(возведение в степень). Пример calc('13 - 5') -> 8"
   ]
  },
  {
   "cell_type": "code",
   "execution_count": 23,
   "id": "58536fe1",
   "metadata": {},
   "outputs": [
    {
     "name": "stdout",
     "output_type": "stream",
     "text": [
      "18.0\n",
      "8.0\n",
      "65.0\n",
      "2.6\n",
      "3.0\n",
      "371293.0\n"
     ]
    }
   ],
   "source": [
    "def calc(s):\n",
    "    s = s.split()\n",
    "    if s[1] == '+':\n",
    "        return float(s[0]) + float(s[2])\n",
    "    elif s[1] == '-':\n",
    "        return float(s[0]) - float(s[2])\n",
    "    elif s[1] == '*':\n",
    "        return float(s[0]) * float(s[2])\n",
    "    elif s[1] == '/':\n",
    "        return float(s[0]) / float(s[2])\n",
    "    elif s[1] == '%':\n",
    "        return float(s[0]) % float(s[2])\n",
    "    elif s[1] == '^':\n",
    "        return float(s[0]) ** float(s[2])\n",
    "\n",
    "print(calc('13 + 5'))\n",
    "print(calc('13 - 5'))\n",
    "print(calc('13 * 5'))\n",
    "print(calc('13 / 5'))\n",
    "print(calc('13 % 5'))\n",
    "print(calc('13 ^ 5'))"
   ]
  },
  {
   "cell_type": "markdown",
   "id": "430ed173",
   "metadata": {},
   "source": [
    "5.7) Реализовать функцию которая выводит на экран сообщение вида:\n",
    "'Автомобиль марки: BMW, модели: X5, цвета: белый, 2006 года выпуска, с пробегом: 215 000 км, c номерным знаком: X012АМ77, цена: 1 115 000 руб.'\n",
    "В функцию передаются именованные параметры изменяемой части сообщения, любой из параметров может быть не задан пользователем функции и автоматически заменен на разумное сообщение в соответствующей части строки. Получить вывод текстового сообщения для словарей c1, c2."
   ]
  },
  {
   "cell_type": "code",
   "execution_count": 24,
   "id": "ae2cb5f7",
   "metadata": {},
   "outputs": [
    {
     "name": "stdout",
     "output_type": "stream",
     "text": [
      "Автомобиль марки: BMW, модели: X5, цвета: белый, 2006 года выпуска, с пробегом: 215000 км, c номерным знаком: X012AM77, цена: 1115000 руб.\n",
      "Автомобиль марки: Toyota, модели: Camry, цвета: черный, 2010 года выпуска, с пробегом: 150000 км, c номерным знаком: В777ОР77, цена: 800000 руб.\n"
     ]
    }
   ],
   "source": [
    "def car_info(brand='unknown', model='unknown', color='unknown', year=0, mileage=0, number='unknown', price=0):\n",
    "    print(f\"Автомобиль марки: {brand}, модели: {model}, цвета: {color}, {year} года выпуска, с пробегом: {mileage} км, c номерным знаком: {number}, цена: {price} руб.\")\n",
    "\n",
    "c1 = {'brand': 'BMW', 'model': 'X5', 'color': 'белый', 'year': 2006, 'mileage': 215000, 'number': 'X012AM77', 'price': 1115000}\n",
    "c2 = {'brand': 'Toyota', 'model': 'Camry', 'color': 'черный', 'year': 2010, 'mileage': 150000, 'number': 'В777ОР77', 'price': 800000}\n",
    "\n",
    "car_info(**c1)\n",
    "car_info(**c2)"
   ]
  },
  {
   "cell_type": "markdown",
   "id": "a2db29a6",
   "metadata": {},
   "source": [
    "5.8) Написать функцию, которая преобразует целое число (от 0 до 99) в текстовое написание числа на русском языке. Пример: to_text(15) -> 'Пятнадцать'"
   ]
  },
  {
   "cell_type": "code",
   "execution_count": 25,
   "id": "de2a7588",
   "metadata": {},
   "outputs": [
    {
     "name": "stdout",
     "output_type": "stream",
     "text": [
      "шестьдесят девять\n",
      "тринадцать\n",
      "пять\n",
      "тридцать два\n"
     ]
    }
   ],
   "source": [
    "num_dict = {'1': 'один', '2': 'два', '3': 'три', '4': 'четыре', '5': 'пять', '6': 'шесть', '7': 'семь', '8': 'восемь', '9': 'девять', '10': 'десять', '11': 'одиннадцать', '12': 'двенадцать', '13': 'тринадцать', '14': 'четырнадцать', '15': 'пятнадцать', '16': 'шестнадцать', '17': 'семнадцать', '18': 'восемнадцать', '19': 'девятнадцать', '20': 'двадцать', '30': 'тридцать', '40': 'сорок', '50': 'пятьдесят', '60': 'шестьдесят', '70': 'семьдесят', '80': 'восемьдесят', '90': 'девяносто'}\n",
    "\n",
    "def num_to_text(num):\n",
    "    num = str(num)\n",
    "    try:\n",
    "        return num_dict[num]\n",
    "    except KeyError:\n",
    "        num1 = str(int(num) - int(num)%10)\n",
    "        num2 = str(int(num)%10)\n",
    "        return num_dict[num1] +' ' + num_dict[num2]\n",
    "\n",
    "print(num_to_text(69))\n",
    "print(num_to_text(13))\n",
    "print(num_to_text(5))\n",
    "print(num_to_text(32))"
   ]
  },
  {
   "cell_type": "markdown",
   "id": "084fd937",
   "metadata": {},
   "source": [
    "5.9) Написать функцию, которая преобразует целое число (от 0 до 999) из текстового представления на русском языке в число типа int. Пример: to_int('тридцать три') -> 33"
   ]
  },
  {
   "cell_type": "code",
   "execution_count": 26,
   "id": "931fc197",
   "metadata": {},
   "outputs": [
    {
     "name": "stdout",
     "output_type": "stream",
     "text": [
      "33\n",
      "7\n",
      "525\n",
      "68\n",
      "125\n"
     ]
    }
   ],
   "source": [
    "nums_dict = {'один': '1', 'два': '2', 'три': '3', 'четыре': '4', 'пять': '5', 'шесть': '6', 'семь': '7', 'восемь': '8',\n",
    "             'девять': '9','десять': '10','одиннадцать': '11','двенадцать': '12','тринадцать': '13', 'четырнадцать': '14', \n",
    "             'пятнадцать': '15','шестнадцать': '16','семнадцать': '17','восемнадцать': '18','девятнадцать': '19',\n",
    "             'двадцать': '20','тридцать': '30','сорок': '40','пятьдесят': '50','шестьдесят': '60','семьдесят': '70',\n",
    "             'восемьдесят': '80','девяносто': '90', 'сто': '100', 'двести': '200', 'триста': '300', 'четыреста': '400', \n",
    "             'пятьсот': '500', 'шестьсот': '600', 'семьсот': '700', 'восемьсот': '800', 'девятьсот':'900'}\n",
    "\n",
    "def text_to_num(st_num):\n",
    "    st_num = st_num.split()\n",
    "    res = 0\n",
    "    for el in st_num:\n",
    "        res += int(nums_dict[el])\n",
    "    return res\n",
    "\n",
    "print(text_to_num('тридцать три'))\n",
    "print(text_to_num('семь'))\n",
    "print(text_to_num('пятьсот двадцать пять'))\n",
    "print(text_to_num('шестьдесят восемь'))\n",
    "print(text_to_num('сто двадцать пять'))"
   ]
  },
  {
   "cell_type": "markdown",
   "id": "d14c450e",
   "metadata": {},
   "source": [
    "6.1) Написать калькулятор для строковых выражений вида '<число> <операция> <число>', где <число> - не отрицательное целое число меньшее 100, записанное словами, например \"тридцать четыре\", <арифметическая операция> - одна из операций \"плюс\",\"минус\",\"умножить\". Результат выполнения операции вернуть в виде текстового представления числа. Пример calc('двадцать пять плюс тринадцать') -> \"тридцать восемь\""
   ]
  },
  {
   "cell_type": "code",
   "execution_count": 38,
   "id": "56f5666a",
   "metadata": {},
   "outputs": [
    {
     "name": "stdout",
     "output_type": "stream",
     "text": [
      "одна тысяча сто сорок четыре\n"
     ]
    }
   ],
   "source": [
    "s = 'тринадцать умножить восемьдесят восемь'\n",
    "dct_1 = {v: k for k, v in enumerate('один два три четыре пять шесть семь восемь девять десять одиннадцать двенадцать тринадцать четырнадцать пятнадцать шестнадцать семнадцать восемнадцать девятнадцать'.split(), 1)}\n",
    "dct_10 = {v: 10*k for k, v in enumerate(' двадцать тридцать сорок пятьдесят шестьдесят семьдесят восемьдесят девяносто'.split(), 2)}\n",
    "dct_100 = {v: 100*k for k, v in enumerate('сто двести триста четыреста пятьсот шестьсот семьсот восемьсот девятьсот'.split(), 1)}\n",
    "dct_1000 = {v: 1000*k for k, v in enumerate('одна тысяча,две тысячи,три тысячи,четыре тысячи,пять тысяч,шесть тысяч,семь тысяч,восемь тысяч,девять тысяч'.split(','), 1)}\n",
    "dct_ = {'плюс': '+', 'минус': '-', 'умножить': '*'}\n",
    " \n",
    "dct = {**dct_1, **dct_10, **dct_100, **dct_1000, **dct_}\n",
    " \n",
    "d = 0\n",
    "for elem in s.split():\n",
    "    if type(dct[elem]) == int:\n",
    "        d += dct[elem]\n",
    "    else:\n",
    "        res = d\n",
    "        op = dct[elem]\n",
    "        d = 0\n",
    " \n",
    "if op == '+':\n",
    "    res += d \n",
    "elif op == '-':\n",
    "    res -= d \n",
    "else:\n",
    "    res *= d \n",
    " \n",
    "dct_text = {v: k for k, v in dct.items()}\n",
    " \n",
    "txt = []\n",
    "if res < 0:\n",
    "    txt.append('минус')\n",
    "    res *= -1\n",
    "elif res == 0:\n",
    "    txt.append('ноль')\n",
    " \n",
    "k = 1000\n",
    "while k:\n",
    "    if res > k-1:\n",
    "        if res > 20:\n",
    "            txt.append(dct_text[res//k*k])\n",
    "            res %= k \n",
    "        else:\n",
    "            txt.append(dct_text[res])\n",
    "            k = 0\n",
    "    k //= 10\n",
    " \n",
    "print(' '.join(txt))"
   ]
  },
  {
   "cell_type": "code",
   "execution_count": null,
   "id": "5ba27e50",
   "metadata": {},
   "outputs": [],
   "source": []
  }
 ],
 "metadata": {
  "kernelspec": {
   "display_name": "Python 3 (ipykernel)",
   "language": "python",
   "name": "python3"
  },
  "language_info": {
   "codemirror_mode": {
    "name": "ipython",
    "version": 3
   },
   "file_extension": ".py",
   "mimetype": "text/x-python",
   "name": "python",
   "nbconvert_exporter": "python",
   "pygments_lexer": "ipython3",
   "version": "3.11.5"
  }
 },
 "nbformat": 4,
 "nbformat_minor": 5
}
