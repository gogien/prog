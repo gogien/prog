{
  "nbformat": 4,
  "nbformat_minor": 0,
  "metadata": {
    "colab": {
      "provenance": []
    },
    "kernelspec": {
      "name": "python3",
      "display_name": "Python 3"
    },
    "language_info": {
      "name": "python"
    }
  },
  "cells": [
    {
      "cell_type": "markdown",
      "source": [
        "# <font color='CadetBlue'> **АЛГОРИТМЫ И СТРУКТУРЫ ДАННЫХ В ЯЗЫКЕ PYTHON**"
      ],
      "metadata": {
        "id": "fHbADoOlkw_e"
      }
    },
    {
      "cell_type": "markdown",
      "source": [
        "#### <font color='LightCoral'> **ЗАДАНИЕ 25.** Описание класса."
      ],
      "metadata": {
        "id": "s2CXmHkJeW6N"
      }
    },
    {
      "cell_type": "markdown",
      "source": [
        "8. Класс – шар. Методы – расчет площади и объема шара. Поля – координаты центра ($x$, $y$, $z$), радиус шара."
      ],
      "metadata": {
        "id": "lOMtr2Q3F5nW"
      }
    },
    {
      "cell_type": "code",
      "source": [
        "import math\n",
        "\n",
        "class Circle(object):\n",
        "  def __init__(self, radius, x,y,z):\n",
        "    self.radius = radius\n",
        "    self.x = x\n",
        "    self.y = y\n",
        "    self.z = z\n",
        "  def calculate_volume(self):\n",
        "    return 4/3*math.pi*self.radius**3\n",
        "  def calculate_square(self):\n",
        "    return 4*math.pi*self.radius**2"
      ],
      "metadata": {
        "id": "pR_Jo7z9rxDk"
      },
      "execution_count": null,
      "outputs": []
    },
    {
      "cell_type": "code",
      "source": [
        "circ = Circle(4, 1,1,1)\n",
        "print(circ.calculate_volume())\n",
        "print(circ.calculate_square())"
      ],
      "metadata": {
        "id": "waKSjTzxspe5",
        "colab": {
          "base_uri": "https://localhost:8080/"
        },
        "outputId": "da2335ae-bec0-4792-ade9-34c9341ea1e8"
      },
      "execution_count": null,
      "outputs": [
        {
          "output_type": "stream",
          "name": "stdout",
          "text": [
            "268.082573106329\n",
            "201.06192982974676\n"
          ]
        }
      ]
    },
    {
      "cell_type": "markdown",
      "source": [
        "9. Класс – конус. Методы – расчет площади и объема конуса. Поля – радиус основания, высота конуса."
      ],
      "metadata": {
        "id": "mDiM5tREGETd"
      }
    },
    {
      "cell_type": "code",
      "source": [
        "from math import pi, sqrt\n",
        "\n",
        "class Cone(object):\n",
        "\n",
        "  def __init__(self, radius, height):\n",
        "    self.radius = radius\n",
        "    self.height = height\n",
        "\n",
        "  def calculate_square(self):\n",
        "    return pi * self.radius**2 + sqrt(self.radius**2+self.height**2)*pi*self.radius\n",
        "\n",
        "  def calculate_volume(self):\n",
        "    return 1/3*pi*self.radius**2*self.height"
      ],
      "metadata": {
        "id": "xkKKg1fNz2C8"
      },
      "execution_count": null,
      "outputs": []
    },
    {
      "cell_type": "code",
      "source": [
        "cone = Cone(3,4)\n",
        "\n",
        "square = cone.calculate_square()\n",
        "volume = cone.calculate_volume()\n",
        "\n",
        "print(f'Площадь: {square}, объем: {volume}')"
      ],
      "metadata": {
        "id": "M7ZrkNriz42k"
      },
      "execution_count": null,
      "outputs": []
    },
    {
      "cell_type": "markdown",
      "source": [
        "#### <font color='LightCoral'> **ЗАДАНИЕ 26.** Работа с классами."
      ],
      "metadata": {
        "id": "YpP98h6Lej5f"
      }
    },
    {
      "cell_type": "markdown",
      "source": [
        "8. Составьте описание класса многочлена вида $ax + b$. Включите в класс методы: вывода описания многочлена на экран, вычисления значения многочлена для заданного аргумента, вычисления корня линейного уравнения с проверкой неравенства коэффициента $b$ нулю, а также свойство, позволяющее возвести многочлен в квадрат."
      ],
      "metadata": {
        "id": "HIxMWeHBHdGA"
      }
    },
    {
      "cell_type": "code",
      "source": [
        "class Line(object):\n",
        "  def __init__(self, a,b):\n",
        "    self.a = a\n",
        "    self.b = b\n",
        "  def __str__(self):\n",
        "    return f'{self.a}x+{self.b}'\n",
        "  def calculate(self,x):\n",
        "    return self.a*x+self.b\n",
        "  def calculte_x(self):\n",
        "    return -self.b/self.a\n",
        "  @property\n",
        "  def square(self):\n",
        "    if self.b>0:\n",
        "      return f'{self.a**2}x^2 + {self.a*self.b*2}x + {self.b**2}'.replace('1x^2','x^2').replace('1x','x')\n",
        "    if self.b<0:\n",
        "      return f'{self.a**2}x^2-{self.a*self.b*2}x+{self.b**2}'.replace('1x^2','x^2').replace('1x','x')\n",
        "    else:\n",
        "      return f'{self.a**2}x^2'.replace('1x^2','x^2').replace('1x','x')"
      ],
      "metadata": {
        "id": "VkF-07AUs1Gy"
      },
      "execution_count": null,
      "outputs": []
    },
    {
      "cell_type": "code",
      "source": [
        "ll = Line(1,2)\n",
        "\n",
        "print(ll)\n",
        "print(ll.calculate(1))\n",
        "print(ll.calculte_x())\n",
        "print(ll.square)"
      ],
      "metadata": {
        "colab": {
          "base_uri": "https://localhost:8080/"
        },
        "id": "Z_0D02IfwjQX",
        "outputId": "30f7811a-a627-4096-b0bc-48cab44df38a"
      },
      "execution_count": null,
      "outputs": [
        {
          "output_type": "stream",
          "name": "stdout",
          "text": [
            "1x+2\n",
            "3\n",
            "-2.0\n",
            "x^2 + 4x + 4\n"
          ]
        }
      ]
    },
    {
      "cell_type": "markdown",
      "source": [
        "9. Опишите класс `Triangle`, заданный длиной одной стороны и двумя прилежащими углами (в градусах). Включите в описание класса методы, позволяющие вычислить две другие стороны и третий угол треугольника, и свойство, доступное только для чтения, позволяющее установить вид треугольника (равносторонний, равнобедренный, прямоугольный и т. п.)."
      ],
      "metadata": {
        "id": "VHWu7CkPHlYS"
      }
    },
    {
      "cell_type": "code",
      "source": [
        "from math import sin, radians\n",
        "from functools import reduce\n",
        "\n",
        "class Triangle(object):\n",
        "\n",
        "  def __init__(self, side, first_angle, second_angle):\n",
        "    self.first_side = side\n",
        "    self.first_angle = first_angle\n",
        "    self.second_angle = second_angle\n",
        "\n",
        "  def get_third_angle(self):\n",
        "    return 180 - self.first_angle - self.second_angle\n",
        "\n",
        "  def get_other_sides(self):\n",
        "    second_side = self.first_side * sin(radians(self.first_angle)) / sin(radians(self.get_third_angle()))\n",
        "    third_side = self.first_side * sin(radians(self.second_angle)) / sin(radians(self.get_third_angle()))\n",
        "    return second_side, third_side\n",
        "\n",
        "  @property\n",
        "  def type(self):\n",
        "    angles = [self.first_angle, self.second_angle, self.get_third_angle()]\n",
        "    sides = [self.first_side] + list(self.get_other_sides())\n",
        "    if any([angle==90 for angle in angles]):\n",
        "      return 'Прямоугольный'\n",
        "    if all([sides[0]==sides[1],sides[1]==sides[2]]):\n",
        "      return 'Равносторонний'\n",
        "    if any([angles[0] == angles[1], angles[1]==angles[2],angles[0]==angles[2]]):\n",
        "      return 'Равнобедренный'\n",
        "    if any([angle>90 for angle in angles]):\n",
        "      return 'Тупоугольный'\n",
        "    return 'Остроугольный'\n"
      ],
      "metadata": {
        "id": "1OUOskKfz-hd"
      },
      "execution_count": 1,
      "outputs": []
    },
    {
      "cell_type": "code",
      "source": [
        "triangle = Triangle(5,110,50)\n",
        "print(triangle.get_third_angle())\n",
        "print(triangle.get_other_sides())\n",
        "print(triangle.type)"
      ],
      "metadata": {
        "id": "EyeLUXvgz-oC",
        "colab": {
          "base_uri": "https://localhost:8080/"
        },
        "outputId": "d6906e84-6430-4b1d-9aa4-4569bb0abd6d"
      },
      "execution_count": 2,
      "outputs": [
        {
          "output_type": "stream",
          "name": "stdout",
          "text": [
            "20\n",
            "(13.737387097273114, 11.19882056755875)\n",
            "Тупоугольный\n"
          ]
        }
      ]
    },
    {
      "cell_type": "markdown",
      "source": [
        "#### <font color='LightCoral'> **ЗАДАНИЕ 27.** Иерархия классов (наследование и полиморфизм)."
      ],
      "metadata": {
        "id": "C_MzbmEnesp0"
      }
    },
    {
      "cell_type": "markdown",
      "source": [
        "8. Создайте класс ПРОГРАММНОЕ ОБЕСПЕЧЕНИЕ с методами, позво-ляющими вывести на экран информацию о программном обеспечении, а также определить соответствие возможности использования (на текущую дату). Создайте дочерние классы СВОБОДНОЕ (название, производитель), УСЛОВНО БЕСПЛАТНОЕ (название, производитель, дата установки, срок бесплатного использования), КОММЕРЧЕСКОЕ (название, производитель, цена, дата установки, срок использования) со своими методами вывода информации на экран и определения возможности использования на текущую дату. Создайте список из   видов программного обеспечения, выведите полную информацию из базы на экран, а также организуйте поиск программного обеспечения, которое допустимо использовать на текущую дату."
      ],
      "metadata": {
        "id": "g5AdFEapJM1T"
      }
    },
    {
      "cell_type": "code",
      "source": [
        "from datetime import datetime, timedelta\n",
        "\n",
        "class Software:\n",
        "    def __init__(self, name, manufacturer):\n",
        "        self.name = name\n",
        "        self.manufacturer = manufacturer\n",
        "\n",
        "    def display_info(self):\n",
        "        print(f\"Name: {self.name}\")\n",
        "        print(f\"Manufacturer: {self.manufacturer}\")\n",
        "\n",
        "    def is_usable(self, current_date):\n",
        "        return True\n",
        "\n",
        "class FreeSoftware(Software):\n",
        "    def __init__(self, name, manufacturer):\n",
        "        super().__init__(name, manufacturer)\n",
        "\n",
        "class TrialSoftware(Software):\n",
        "    def __init__(self, name, manufacturer, installation_date, trial_period):\n",
        "        super().__init__(name, manufacturer)\n",
        "        self.installation_date = installation_date\n",
        "        self.trial_period = trial_period\n",
        "\n",
        "    def display_info(self):\n",
        "        super().display_info()\n",
        "        print(f\"Installation Date: {self.installation_date}\")\n",
        "        print(f\"Trial Period: {self.trial_period} days\")\n",
        "\n",
        "    def is_usable(self, current_date):\n",
        "        expiration_date = self.installation_date + timedelta(self.trial_period)\n",
        "        return current_date <= expiration_date\n",
        "\n",
        "class CommercialSoftware(Software):\n",
        "    def __init__(self, name, manufacturer, price, installation_date, usage_period):\n",
        "        super().__init__(name, manufacturer)\n",
        "        self.price = price\n",
        "        self.installation_date = installation_date\n",
        "        self.usage_period = usage_period\n",
        "\n",
        "    def display_info(self):\n",
        "        super().display_info()\n",
        "        print(f\"Price: {self.price}\")\n",
        "        print(f\"Installation Date: {self.installation_date}\")\n",
        "        print(f\"Usage Period: {self.usage_period} days\")\n",
        "\n",
        "    def is_usable(self, current_date):\n",
        "        expiration_date = self.installation_date + timedelta(self.usage_period)\n",
        "        return current_date <= expiration_date\n",
        "\n"
      ],
      "metadata": {
        "id": "2IVueOGJxmw4"
      },
      "execution_count": 3,
      "outputs": []
    },
    {
      "cell_type": "code",
      "source": [
        "from datetime import datetime\n",
        "\n",
        "free_software = FreeSoftware(\"Free Software\", \"Free Inc.\")\n",
        "trial_software = TrialSoftware(\"Trial Software\", \"Trial Corp.\", datetime(2023, 1, 1), 30)\n",
        "commercial_software = CommercialSoftware(\"Commercial Software\", \"Commercial Corp.\", 99.99, datetime(2023, 1, 1), 365)\n",
        "\n",
        "\n",
        "software_list = [free_software, trial_software, commercial_software]\n",
        "\n",
        "\n",
        "current_date = datetime.now()\n",
        "for software in software_list:\n",
        "    software.display_info()\n",
        "    if software.is_usable(current_date):\n",
        "        print(\"This software is usable on the current date.\")\n",
        "    else:\n",
        "        print(\"This software is not usable on the current date.\")\n",
        "    print()"
      ],
      "metadata": {
        "colab": {
          "base_uri": "https://localhost:8080/"
        },
        "id": "abCcQ32NynE6",
        "outputId": "a37e1251-f2cd-4ba5-867e-31108be15af6"
      },
      "execution_count": 4,
      "outputs": [
        {
          "output_type": "stream",
          "name": "stdout",
          "text": [
            "Name: Free Software\n",
            "Manufacturer: Free Inc.\n",
            "This software is usable on the current date.\n",
            "\n",
            "Name: Trial Software\n",
            "Manufacturer: Trial Corp.\n",
            "Installation Date: 2023-01-01 00:00:00\n",
            "Trial Period: 30 days\n",
            "This software is not usable on the current date.\n",
            "\n",
            "Name: Commercial Software\n",
            "Manufacturer: Commercial Corp.\n",
            "Price: 99.99\n",
            "Installation Date: 2023-01-01 00:00:00\n",
            "Usage Period: 365 days\n",
            "This software is not usable on the current date.\n",
            "\n"
          ]
        }
      ]
    },
    {
      "cell_type": "markdown",
      "source": [
        "9. Создайте класс ТРАНСПОРТ с методами, позволяющими вывести на экран информацию о транспортном средстве, а также определить, находится ли транспортное средство в пределах заданных координат. Создайте дочерние классы САМОЛЕТ (марка, максимальные скорость и высота, количество пассажиров, координаты), АВТОМОБИЛЬ (марка, номер, год выпуска, координаты), КОРАБЛЬ (название, координаты, скорость, количество пассажиров, порт приписки) со своими методами вывода информации на экран и определения присутствия транспортного средства в пределах заданных координат. Создайте список из $n$ транспортных средств, выведите полную информацию из базы на экран, а также организуйте поиск транспортных средств, которые сейчас находятся в пределах заданных координат."
      ],
      "metadata": {
        "id": "bipOzyOQJW8Z"
      }
    },
    {
      "cell_type": "code",
      "source": [
        "class Transport(object):\n",
        "\n",
        "  def __init__(self, latitude,longitude):\n",
        "    self.cords = {\n",
        "        'latitude':latitude,\n",
        "        'longitude':longitude,\n",
        "    }\n",
        "\n",
        "  def __str__(self):\n",
        "    return f'Широта:{self.cords[\"latitude\"]}, долгота: {self.cords[\"longitude\"]}'\n",
        "\n",
        "  def check_cords(self, latitude1,longitude1,latitude2,longitude2):\n",
        "    if latitude1 <= self.cords[\"latitude\"] <= latitude2 and longitude1 <= self.cords[\"longitude\"] <= longitude2:\n",
        "      return True\n",
        "    return False\n",
        "\n",
        "class Plane(Transport):\n",
        "\n",
        "  def __init__(self, brand, max_speed, max_height, count_passengers, latitude,longitude):\n",
        "    super().__init__(latitude, longitude)\n",
        "    self.brand = brand\n",
        "    self.max_speed = max_speed\n",
        "    self.max_height = max_height\n",
        "    self.count_passengers = count_passengers\n",
        "\n",
        "  def __str__(self):\n",
        "    return f'Марка: {self.brand}, максимальная скорость: {self.max_speed}, максимальная высота: {self.max_height}, количество пассажиров: {self.count_passengers}, широта: {self.cords[\"latitude\"]}, долгота: {self.cords[\"longitude\"]}'\n",
        "\n",
        "class Car(Transport):\n",
        "\n",
        "  def __init__(self, brand, number, year_of_manufacture, latitude, longitude):\n",
        "    super().__init__(latitude, longitude)\n",
        "    self.brand = brand\n",
        "    self.number = number\n",
        "    self.year_of_manufacture = year_of_manufacture\n",
        "\n",
        "\n",
        "  def __str__(self):\n",
        "    return f'Марка: {self.brand}, номер: {self.number}, год выпуска: {self.year_of_manufacture}, широта: {self.cords[\"latitude\"]}, долгота: {self.cords[\"longitude\"]}'\n",
        "\n",
        "class Ship(Transport):\n",
        "\n",
        "  def __init__(self, name, latitude,longitude, speed, count_passengers, port):\n",
        "    super().__init__(latitude,longitude)\n",
        "    self.name = name\n",
        "    self.speed = speed\n",
        "    self.count_passengers = count_passengers\n",
        "    self.port = port\n",
        "\n",
        "  def __str__(self):\n",
        "    return f'Название: {self.name}, широта: {self.cords[\"latitude\"]}, долгота: {self.cords[\"longitude\"]}, скорость: {self.speed}, количество пассажиров: {self.count_passengers}, порт приписки: {self.port} '"
      ],
      "metadata": {
        "id": "moMBNJiy0F3n"
      },
      "execution_count": 5,
      "outputs": []
    },
    {
      "cell_type": "code",
      "source": [
        "transports = [Plane('BOING',\"10000kmph\",\"10m\",2,39.14,49.5), Car('Mercedez benz cls63','AA100A','1939',10.41,70.1), Ship(\"AURORA\", 76.41,41.0510567,\"2kmph\",1000, 1310067)]\n",
        "for transport in transports:\n",
        "  print(transport)\n",
        "\n",
        "cords1 = {\n",
        "    'latitude': 20.1,\n",
        "    'longitude':30,\n",
        "}\n",
        "\n",
        "cords2 = {\n",
        "    'latitude': 70.3,\n",
        "    'longitude': 50,\n",
        "}\n",
        "\n",
        "print(f'\\nТранспорты входящие в координаты ({cords1[\"latitude\"]},{cords1[\"longitude\"]}) и ({cords2[\"latitude\"]},{cords2[\"longitude\"]})')\n",
        "for transport in transports:\n",
        "  if transport.check_cords(cords1[\"latitude\"],cords1[\"longitude\"],cords2[\"latitude\"],cords2[\"longitude\"]):\n",
        "    print(transport)"
      ],
      "metadata": {
        "id": "0gxfzD-G0F9u",
        "colab": {
          "base_uri": "https://localhost:8080/"
        },
        "outputId": "1f644311-ae4c-4399-dc0d-1a14f073ef4b"
      },
      "execution_count": 6,
      "outputs": [
        {
          "output_type": "stream",
          "name": "stdout",
          "text": [
            "Марка: BOING, максимальная скорость: 10000kmph, максимальная высота: 10m, количество пассажиров: 2, широта: 39.14, долгота: 49.5\n",
            "Марка: Mercedez benz cls63, номер: AA100A, год выпуска: 1939, широта: 10.41, долгота: 70.1\n",
            "Название: AURORA, широта: 76.41, долгота: 41.0510567, скорость: 2kmph, количество пассажиров: 1000, порт приписки: 1310067 \n",
            "\n",
            "Транспорты входящие в координаты (20.1,30) и (70.3,50)\n",
            "Марка: BOING, максимальная скорость: 10000kmph, максимальная высота: 10m, количество пассажиров: 2, широта: 39.14, долгота: 49.5\n"
          ]
        }
      ]
    }
  ]
}