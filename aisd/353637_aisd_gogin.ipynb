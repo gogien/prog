{
 "cells": [
  {
   "cell_type": "markdown",
   "id": "3d651045",
   "metadata": {},
   "source": [
    "# 6 вариант"
   ]
  },
  {
   "cell_type": "markdown",
   "id": "7d341cd5",
   "metadata": {},
   "source": [
    "<div class = \"alert-success\">\n",
    "    \n",
    "**35**"
   ]
  },
  {
   "cell_type": "markdown",
   "id": "91db0c8b-6b40-49c2-b8fc-f48b72865533",
   "metadata": {},
   "source": [
    "Создайте двусвязный список для хранения информации о задачах в системе управления проектами для строительства зданий. Каждый элемент списка должен содержать название задачи, описание, дату начала и дату окончания, а также информацию о том, какие инженеры и рабочие работают над этой задачей."
   ]
  },
  {
   "cell_type": "code",
   "execution_count": 1,
   "id": "b3e77de2-f3be-487a-81f5-db877e3fb4fa",
   "metadata": {},
   "outputs": [
    {
     "name": "stdout",
     "output_type": "stream",
     "text": [
      "Название: Работа над фундаментом\n",
      "Описание: Вскрытие и укладка фундамента\n",
      "Дата начала: 2024-05-01\n",
      "Дата конца: 2024-05-10\n",
      "Инженеры: ['Иван', 'Анна']\n",
      "Рабочие: ['Рабочий1', 'Рабочий2']\n",
      "-------------------------\n",
      "Название: Строительство каркаса\n",
      "Описание: Возведение каркаса здания\n",
      "Дата начала: 2024-05-11\n",
      "Дата конца: 2024-05-20\n",
      "Инженеры: ['Петр', 'Мария']\n",
      "Рабочие: ['Рабочий3', 'Рабочий4']\n",
      "-------------------------\n"
     ]
    }
   ],
   "source": [
    "class Task:\n",
    "    # Описание элемента (задачи)\n",
    "    def __init__(self, nazvanie, opisanie, nachalo, konec, engineers, rabochie):\n",
    "        # Инициализация класса Task с атрибутами: название, описание, начало, конец, инженеры, рабочие\n",
    "        self.nazvanie = nazvanie\n",
    "        self.opisanie = opisanie\n",
    "        self.nachalo = nachalo\n",
    "        self.konec = konec\n",
    "        self.engineers = engineers\n",
    "        self.rabochie = rabochie\n",
    "        self.prev = None  # Указатель на предыдущую задачу (используется в двусвязном списке)\n",
    "        self.next = None  # Указатель на следующую задачу (используется в двусвязном списке)\n",
    "\n",
    "class DoublyLinkedList:\n",
    "    def __init__(self):\n",
    "        # Инициализация класса DoublyLinkedList для работы с двусвязным списком\n",
    "        self.head = None  # Головной элемент списка\n",
    "        self.tail = None  # Конечный элемент списка\n",
    "\n",
    "    def add_task(self, nazvanie, opisanie, nachalo, konec, engineers, rabochie):\n",
    "        # Метод для добавления задачи в список\n",
    "        task = Task(nazvanie, opisanie, nachalo, konec, engineers, rabochie)  # Создание новой задачи\n",
    "        if self.head is None:\n",
    "            # Если список пустой\n",
    "            self.head = task  # Задача становится головным элементом\n",
    "            self.tail = task  # Задача также становится конечным элементом\n",
    "        else:\n",
    "            # Если в списке уже есть элементы\n",
    "            task.prev = self.tail  # Устанавливаем указатель на предыдущий элемент для новой задачи\n",
    "            self.tail.next = task  # Устанавливаем указатель на следующий элемент для текущего конечного элемента списка\n",
    "            self.tail = task  # Новая задача становится конечным элементом списка\n",
    "\n",
    "    def display_tasks(self):\n",
    "        # Метод для отображения всех задач в списке\n",
    "        task = self.head  # Начинаем с головного элемента\n",
    "        while task:\n",
    "            # Пока есть задачи в списке\n",
    "            print(\"Название:\", task.nazvanie)\n",
    "            print(\"Описание:\", task.opisanie)\n",
    "            print(\"Дата начала:\", task.nachalo)\n",
    "            print(\"Дата конца:\", task.konec)\n",
    "            print(\"Инженеры:\", task.engineers)\n",
    "            print(\"Рабочие:\", task.rabochie)\n",
    "            print(\"-------------------------\")\n",
    "            task = task.next  # Переходим к следующей задаче в списке\n",
    "\n",
    "# Пример использования\n",
    "tasks_list = DoublyLinkedList()  # Создание объекта класса DoublyLinkedList для работы со списком задач\n",
    "tasks_list.add_task(\"Работа над фундаментом\", \"Вскрытие и укладка фундамента\", \"2024-05-01\", \"2024-05-10\", [\"Иван\", \"Анна\"], [\"Рабочий1\", \"Рабочий2\"])\n",
    "tasks_list.add_task(\"Строительство каркаса\", \"Возведение каркаса здания\", \"2024-05-11\", \"2024-05-20\", [\"Петр\", \"Мария\"], [\"Рабочий3\", \"Рабочий4\"])\n",
    "\n",
    "tasks_list.display_tasks()  # Отображение всех задач в списке"
   ]
  },
  {
   "cell_type": "markdown",
   "id": "dbb1f6c5",
   "metadata": {},
   "source": [
    "<div class = \"alert-success\">\n",
    "    \n",
    "**36**"
   ]
  },
  {
   "cell_type": "markdown",
   "id": "9e0810b7-8b4b-456d-94d7-326e1edf4554",
   "metadata": {},
   "source": [
    "Реализовать функцию, которая находит $k$-й элемент с конца в двусвязном списке."
   ]
  },
  {
   "cell_type": "code",
   "execution_count": 3,
   "id": "eb5885e2-9982-42a4-9bed-e26b52570e12",
   "metadata": {
    "scrolled": true
   },
   "outputs": [
    {
     "name": "stdout",
     "output_type": "stream",
     "text": [
      "2-й элемент с конца: 4\n"
     ]
    }
   ],
   "source": [
    "class Node:  # Определение класса узла (элемента)\n",
    "    def __init__(self, el): \n",
    "        self.data = el  # Задание атрибута для хранения данных узла\n",
    "        self.prev = None  # Атрибут для хранения ссылки на предыдущий узел, изначально None\n",
    "        self.next = None  # Атрибут для хранения ссылки на следующий узел, изначально None\n",
    "\n",
    "class DoublyLinkedList:  # Определение класса двусвязного списка\n",
    "    def __init__(self):  # Метод инициализации списка\n",
    "        self.head = None  # Атрибут для хранения ссылки на первый узел, изначально None (пустой список)\n",
    "        self.tail = None  # Атрибут для хранения ссылки на последний узел, изначально None (пустой список)\n",
    "\n",
    "    def append(self, el):  # Метод добавления элемента в конец списка\n",
    "        nd = Node(el)  # Создание нового узла с переданным элементом\n",
    "        if not self.head:  # Если список пустой (нет головного узла)\n",
    "            self.head = nd  # Текущий узел становится и головным, и последним\n",
    "            self.tail = nd\n",
    "        else:  # Если список не пустой\n",
    "            nd.prev = self.tail  # Предыдущий узел для нового узла - текущий последний узел\n",
    "            self.tail.next = nd  # Следующий узел для текущего последнего - новый узел\n",
    "            self.tail = nd  # Обновляем ссылку на последний узел списка\n",
    "\n",
    "    def k_el(self, k):  # Метод для поиска k-го элемента с конца\n",
    "        if not self.head:  # Если список пуст, возвращаем None\n",
    "            return None\n",
    "\n",
    "        el = self.tail  # Начинаем с последнего узла\n",
    "        for _ in range(k - 1):  # Проходим по списку k-1 раз\n",
    "            if el.prev:  # Если есть предыдущий узел\n",
    "                el = el.prev  # Переходим к предыдущему узлу\n",
    "            else:  # Если k больше, чем длина списка\n",
    "                return None  # Возвращаем None\n",
    "\n",
    "        return el.data  # Возвращаем данные k-го элемента с конца\n",
    "\n",
    "# Пример использования\n",
    "lst = DoublyLinkedList()  # Создание объекта двусвязного списка\n",
    "lst.append(1)  # Добавление элементов\n",
    "lst.append(2)\n",
    "lst.append(3)\n",
    "lst.append(4)\n",
    "lst.append(5)\n",
    "k_el = lst.k_el(2)  # Поиск второго элемента с конца\n",
    "if k_el is not None:  # Если элемент найден\n",
    "    print(f\"2-й элемент с конца: {k_el}\")  # Вывод найденного элемента\n",
    "else:  # Если список короче 2 элементов\n",
    "    print(\"Список короче 2 элементов.\")  # Вывод сообщения об этом"
   ]
  },
  {
   "cell_type": "markdown",
   "id": "88d92b88",
   "metadata": {},
   "source": [
    "<div class = \"alert-success\">\n",
    "    \n",
    "**37**"
   ]
  },
  {
   "cell_type": "markdown",
   "id": "4e49cc39-c635-4dcd-8112-219214324c89",
   "metadata": {},
   "source": [
    "Реализовать функцию, которая удаляет все элементы циклического двусвязного списка, меньшие заданного значения."
   ]
  },
  {
   "cell_type": "code",
   "execution_count": 4,
   "id": "a5f5226d-dbd4-447d-9014-ed4cb6e706fd",
   "metadata": {},
   "outputs": [
    {
     "name": "stdout",
     "output_type": "stream",
     "text": [
      "Исходный список:\n",
      "5 3 8 2 7 \n",
      "Удаляем элементы меньше 5\n",
      "Список после удаления:\n",
      "8 7 \n"
     ]
    }
   ],
   "source": [
    "class Node:\n",
    "    def __init__(self, el): \n",
    "        self.el = el  # Значение элемента узла\n",
    "        self.prev = None  # Ссылка на предыдущий узел\n",
    "        self.next = None  # Ссылка на следующий узел\n",
    "\n",
    "class CircularDoublyLinkedList:\n",
    "    def __init__(self): \n",
    "        self.head = None  # Инициализация головы списка как None\n",
    "\n",
    "    def append(self, el):  # Метод добавления элемента в конец списка\n",
    "        nd = Node(el)  # Создание нового узла с переданным значением\n",
    "        if self.head is None:  # Если список пустой\n",
    "            self.head = nd  # Назначаем новый узел головой списка\n",
    "        else:\n",
    "            last_node = self.head.prev  # Последний узел списка - это предыдущий у головного узла\n",
    "            last_node.next = nd  # Следующий у последнего узла - новый узел\n",
    "            nd.prev = last_node  # Предыдущий у нового узла - последний узел\n",
    "        nd.next = self.head  # Следующий после нового узла - головной узел\n",
    "        self.head.prev = nd  # Предыдущий головного узла - новый узел\n",
    "\n",
    "    def remove_less_than(self, value):  # Метод удаления элементов списка, меньших заданного значения\n",
    "        nd = self.head  # Начинаем с головного узла\n",
    "        flag = False  # Флаг для проверки, является ли головной узел удаляемым\n",
    "        while nd:  # Пока не достигнут конец списка\n",
    "            if nd.el <= value:  # Если значение текущего узла меньше или равно заданному\n",
    "                nd.prev.next = nd.next  # Связываем предыдущий узел с следующим после текущего\n",
    "                nd.next.prev = nd.prev  # Связываем следующий узел с предыдущим перед текущим\n",
    "                if nd == self.head:  # Если текущий узел - головной\n",
    "                    self.head = nd.next  # Переназначаем голову списка на следующий узел\n",
    "                    flag = True  # Устанавливаем флаг, что головной узел был удален\n",
    "            nd = nd.next  # Переходим к следующему узлу\n",
    "            if nd == self.head and not flag:  # Если вернулись к голове и головной узел не был удален\n",
    "                break  # Завершаем цикл\n",
    "            flag = False  # Сбрасываем флаг\n",
    "\n",
    "    def display(self):  # Метод для вывода элементов списка\n",
    "        nd = self.head  # Начинаем с головного узла\n",
    "        while True:  # Бесконечный цикл\n",
    "            print(nd.el, end=\" \")  # Вывод значения текущего узла\n",
    "            nd = nd.next  # Переходим к следующему узлу\n",
    "            if nd == self.head:  # Если вернулись к голове\n",
    "                break  # Завершаем цикл\n",
    "        print()  # Переход на новую строку\n",
    "\n",
    "dll = CircularDoublyLinkedList()  # Создание объекта кругового двусвязного списка\n",
    "dll.append(5)  # Добавление элементов в список\n",
    "dll.append(3)\n",
    "dll.append(8)\n",
    "dll.append(2)\n",
    "dll.append(7)\n",
    "\n",
    "print(\"Исходный список:\") \n",
    "dll.display() \n",
    "\n",
    "value = 5  # Заданное значение для удаления элементов меньше этого значения\n",
    "print(\"Удаляем элементы меньше\", value) \n",
    "dll.remove_less_than(value) \n",
    "\n",
    "print(\"Список после удаления:\")  \n",
    "dll.display() "
   ]
  }
 ],
 "metadata": {
  "kernelspec": {
   "display_name": "Python 3 (ipykernel)",
   "language": "python",
   "name": "python3"
  },
  "language_info": {
   "codemirror_mode": {
    "name": "ipython",
    "version": 3
   },
   "file_extension": ".py",
   "mimetype": "text/x-python",
   "name": "python",
   "nbconvert_exporter": "python",
   "pygments_lexer": "ipython3",
   "version": "3.11.5"
  }
 },
 "nbformat": 4,
 "nbformat_minor": 5
}
