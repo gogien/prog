{
 "cells": [
  {
   "cell_type": "markdown",
   "id": "6b2840f9",
   "metadata": {},
   "source": [
    "1) Реализовать простейший динамический массив, поддерживающий добавление элемента в конец массива при помощи метода append(e).\n",
    "Также должны поддерживаться следующие операции:\n",
    "•\tизвлечение элемента по индексу;\n",
    "•\tустанавка нового значения по индексу;\n",
    "•\tполучение текущей длины массива.\n",
    "1.1) Добавить реализацию удаления элемента из любого места массива и поддержку корректного вывода массива при помощи функции print."
   ]
  },
  {
   "cell_type": "code",
   "execution_count": 1,
   "id": "02cf4ead",
   "metadata": {},
   "outputs": [
    {
     "name": "stdout",
     "output_type": "stream",
     "text": [
      "[10, 20, 30]\n",
      "20\n",
      "[150, 20, 30]\n",
      "2\n"
     ]
    }
   ],
   "source": [
    "class DynamicArray(object):\n",
    "    def __init__(self, array = []):\n",
    "        self.array = array #создаем массив\n",
    "    def append(self, item): #Добавляет элемент в массив\n",
    "        self.array.append(item)\n",
    "    def get(self, index): #Получение элемента по индексу\n",
    "        if 0 <= index < len(self.array):\n",
    "            return self.array[index]\n",
    "        else:\n",
    "            raise IndexError(\"Index out of range\")\n",
    "\n",
    "    def set(self, index, value): #устанавка нового значения по индексу\n",
    "        if 0 <= index < len(self.array):\n",
    "            self.array[index] = value\n",
    "        else:\n",
    "            raise IndexError(\"Index out of range\")\n",
    "\n",
    "    def length(self): #получение текущей длины массива\n",
    "        return len(self.array)\n",
    "\n",
    "    def remove(self, item): #удаления элемента из любого места массива\n",
    "        try:\n",
    "            self.array.remove(item)\n",
    "        except ValueError:\n",
    "            pass\n",
    "\n",
    "    def __str__(self): #поддержку корректного вывода массива при помощи функции print\n",
    "        return str(self.array)\n",
    "# Создаем объект динамического массива\n",
    "arr = DynamicArray()\n",
    "\n",
    "# Добавляем элементы в массив\n",
    "arr.append(10)\n",
    "arr.append(20)\n",
    "arr.append(30)\n",
    "print(arr)\n",
    "print(arr.get(1))\n",
    "arr.set(0, 150)\n",
    "print(arr)\n",
    "arr.remove(150)\n",
    "print(arr.length())"
   ]
  },
  {
   "cell_type": "markdown",
   "id": "908e6578",
   "metadata": {},
   "source": [
    "2) Реализовать генератор, который возвращает значение поочередно извлекаемое из конца двух очередей (в качестве очереди используется deque из collections). Если очередь из которой извлекается элемент пуста - генератор заканчивает работу."
   ]
  },
  {
   "cell_type": "code",
   "execution_count": 2,
   "id": "f02d0e2b",
   "metadata": {},
   "outputs": [
    {
     "name": "stdout",
     "output_type": "stream",
     "text": [
      "4\n",
      "c\n",
      "3\n",
      "b\n",
      "2\n",
      "a\n",
      "1\n"
     ]
    }
   ],
   "source": [
    "from collections import deque\n",
    "\n",
    "def alternate_queue_values(queue1, queue2):\n",
    "    while len(queue1) > 0 or len(queue2) > 0:\n",
    "        if len(queue1) > 0:\n",
    "            yield queue1.pop()\n",
    "        if len(queue2) > 0:\n",
    "            yield queue2.pop()\n",
    "\n",
    "# Создаем две очереди\n",
    "queue1 = deque([1, 2, 3, 4])\n",
    "queue2 = deque(['a', 'b', 'c'])\n",
    "\n",
    "# Применяем генератор для извлечения значений\n",
    "gen = alternate_queue_values(queue1, queue2)\n",
    "for value in gen:\n",
    "    print(value)"
   ]
  },
  {
   "cell_type": "markdown",
   "id": "433e39e6",
   "metadata": {},
   "source": [
    "3) Реализовать классы с медодом action():\n",
    "а) Класс Pump - в методе action() извлекает очередное значение из генератора и помещает значение в очередь (очередь передается в конструктор).\n",
    "b) Класс MultiAction - при вызове метода action() n раз вызвает метод action() класса, переданного в конструкторе. Число n также определяется в конструкторе.\n",
    "c) Класс MultiPump - в методе action() извлекает очередное значение из генератора и помещает значение в одну из очередей (очереди передается в конструкторе); очереди , в которые помещаются очередные значения, меняются по порядку.\n"
   ]
  },
  {
   "cell_type": "code",
   "execution_count": 7,
   "id": "55c56b22",
   "metadata": {},
   "outputs": [
    {
     "name": "stdout",
     "output_type": "stream",
     "text": [
      "deque([1, 3, 4, 5])\n",
      "deque([2])\n",
      "deque([])\n"
     ]
    }
   ],
   "source": [
    "from collections import deque\n",
    "\n",
    "class Pump:\n",
    "    def __init__(self, queue):\n",
    "        self.queue = queue\n",
    "    \n",
    "    def action(self, gen):\n",
    "        try:\n",
    "            value = next(gen)\n",
    "            self.queue.append(value)\n",
    "        except StopIteration:\n",
    "            pass\n",
    "\n",
    "class MultiAction:\n",
    "    def __init__(self, obj, n):\n",
    "        self.obj = obj\n",
    "        self.n = n\n",
    "    \n",
    "    def action(self, gen):\n",
    "        for _ in range(self.n):\n",
    "            self.obj.action(gen)\n",
    "\n",
    "class MultiPump:\n",
    "    def __init__(self, queues):\n",
    "        self.queues = queues\n",
    "        self.queue_index = 0\n",
    "    \n",
    "    def action(self, gen):\n",
    "        try:\n",
    "            value = next(gen)\n",
    "            self.queues[self.queue_index].append(value)\n",
    "            self.queue_index = (self.queue_index + 1) % len(self.queues)\n",
    "        except StopIteration:\n",
    "            pass\n",
    "\n",
    "# Создаем генератор\n",
    "def number_generator():\n",
    "    for i in range(1, 6):\n",
    "        yield i\n",
    "\n",
    "# Создаем очереди\n",
    "queue1 = deque()\n",
    "queue2 = deque()\n",
    "queue3 = deque()\n",
    "\n",
    "# Создаем экземпляры классов\n",
    "pump1 = Pump(queue1)\n",
    "pump2 = Pump(queue2)\n",
    "multi_pump = MultiPump([queue1, queue2, queue3])\n",
    "\n",
    "# Выполняем действия с генератором\n",
    "gen = number_generator()\n",
    "pump1.action(gen)\n",
    "pump2.action(gen)\n",
    "\n",
    "multi_act = MultiAction(pump1, 3)\n",
    "multi_act.action(gen)\n",
    "\n",
    "multi_pump.action(gen)\n",
    "multi_pump.action(gen)\n",
    "multi_pump.action(gen)\n",
    "multi_pump.action(gen)\n",
    "\n",
    "# Вывод содержимого очередей\n",
    "print(queue1)\n",
    "print(queue2)\n",
    "print(queue3)\n"
   ]
  },
  {
   "cell_type": "markdown",
   "id": "049f5540",
   "metadata": {},
   "source": [
    "4) При помощи GenFromQ, Pump реализовать систему опработки сообщений. Сообщения создаются генератором сообщений возвращающим случайным образорм одно из сообщений. Сообщения из трех генераторов закачиваются в три очереди при помощи классов Pump, далее при помощи GenFromQ и Pump объединяются в одну очередь и выводятся на экран (можно реализовать при помощи класса с action и вызываемого при помощи MultiPump).\n",
    "\n"
   ]
  },
  {
   "cell_type": "code",
   "execution_count": 16,
   "id": "728a244d",
   "metadata": {},
   "outputs": [
    {
     "name": "stdout",
     "output_type": "stream",
     "text": [
      "Urgent message\n",
      "Important message\n",
      "Normal message\n"
     ]
    }
   ],
   "source": [
    "import random\n",
    "from collections import deque\n",
    "\n",
    "class GenFromQ:\n",
    "    def __init__(self, queues):\n",
    "        self.queues = queues\n",
    "    \n",
    "    def action(self, output_queue):\n",
    "        for queue in self.queues:\n",
    "            while queue:\n",
    "                output_queue.append(queue.popleft())\n",
    "\n",
    "class Pump:\n",
    "    def __init__(self, queue):\n",
    "        self.queue = queue\n",
    "    \n",
    "    def action(self, gen):\n",
    "        try:\n",
    "            value = next(gen)\n",
    "            self.queue.append(value)\n",
    "        except StopIteration:\n",
    "            pass\n",
    "\n",
    "# Генератор случайных сообщений\n",
    "def message_generator():\n",
    "    messages = [\"Important message\", \"Urgent message\", \"Normal message\"]\n",
    "    while True:\n",
    "        yield random.choice(messages)\n",
    "\n",
    "# Создаем три очереди\n",
    "queue1 = deque()\n",
    "queue2 = deque()\n",
    "queue3 = deque()\n",
    "output_queue = deque()\n",
    "\n",
    "# Создаем экземпляры классов Pump для каждой очереди\n",
    "pump1 = Pump(queue1)\n",
    "pump2 = Pump(queue2)\n",
    "pump3 = Pump(queue3)\n",
    "\n",
    "# Создаем экземпляр класса GenFromQ для объединения сообщений из разных очередей\n",
    "gen_from_q = GenFromQ([queue1, queue2, queue3])\n",
    "\n",
    "# Создаем генератор сообщений\n",
    "gen = message_generator()\n",
    "\n",
    "# Загружаем сообщения в очереди\n",
    "pump1.action(gen)\n",
    "pump2.action(gen)\n",
    "pump3.action(gen)\n",
    "\n",
    "# Объединяем сообщения из разных очередей в одну\n",
    "gen_from_q.action(output_queue)\n",
    "\n",
    "# Выводим сообщения на экран\n",
    "while output_queue:\n",
    "    print(output_queue.popleft())\n"
   ]
  },
  {
   "cell_type": "code",
   "execution_count": null,
   "id": "950dcb8d",
   "metadata": {},
   "outputs": [],
   "source": []
  },
  {
   "cell_type": "code",
   "execution_count": null,
   "id": "7329696f",
   "metadata": {},
   "outputs": [],
   "source": []
  }
 ],
 "metadata": {
  "kernelspec": {
   "display_name": "Python 3 (ipykernel)",
   "language": "python",
   "name": "python3"
  },
  "language_info": {
   "codemirror_mode": {
    "name": "ipython",
    "version": 3
   },
   "file_extension": ".py",
   "mimetype": "text/x-python",
   "name": "python",
   "nbconvert_exporter": "python",
   "pygments_lexer": "ipython3",
   "version": "3.11.5"
  }
 },
 "nbformat": 4,
 "nbformat_minor": 5
}
