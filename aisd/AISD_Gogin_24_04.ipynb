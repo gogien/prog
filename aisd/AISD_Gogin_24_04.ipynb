{
  "nbformat": 4,
  "nbformat_minor": 0,
  "metadata": {
    "colab": {
      "provenance": [],
      "collapsed_sections": [
        "UHFP36oYlxVP",
        "Qtks3ldxSlRQ",
        "deqygj8V4cFn",
        "iTMMjxHx34ze",
        "hHvyt-v4tqHf",
        "CRGxay6Yuc7F",
        "jtrdGrUwvGSW",
        "JJyN-79_JHIz",
        "5ASh5cH0JJzO",
        "pSYyv9rQJKeQ",
        "LOrWCgzgJKqw",
        "sJf0cye_JKzu",
        "yUJ1yoYFJLRx",
        "RBeJ_jewJLc7",
        "J8W2WrivJLmB",
        "nbrmNnQkSqTF",
        "eEfJ3hdacn2O",
        "XdpHm6SQco3u",
        "AsCxG7xFcpFg",
        "nODNI4fhcpR_",
        "S1z_xRDucpkG",
        "tdV2beFdcpuO",
        "YbP9A-Z4cp5y",
        "jLbD02v5Ef9L",
        "jRQwjKp1cqGI",
        "nTJboR7ycqP2",
        "WtxZotV6eLD2",
        "s2CXmHkJeW6N",
        "YpP98h6Lej5f",
        "C_MzbmEnesp0",
        "ICWe68Cre6qx",
        "Ufb_V5ALe70J",
        "jIET26XX-1iW",
        "grEFfrT1Ptd9",
        "_50nhig8e8WB",
        "Y5IzArqPfc6g",
        "Zz7Pa6d9fp0N",
        "pbF7QemofsxE",
        "7km8KaMcftjL",
        "jFhR9iC2ftuv",
        "YbpTd9oaft6R",
        "83V3q8I8fuFK",
        "gttR9xjtFbtf",
        "meJCexfTfuPn"
      ]
    },
    "kernelspec": {
      "name": "python3",
      "display_name": "Python 3"
    },
    "language_info": {
      "name": "python"
    }
  },
  "cells": [
    {
      "cell_type": "markdown",
      "source": [
        "#### <font color='LightCoral'> **ЗАДАНИЕ 32.** Структуры данных: массивы."
      ],
      "metadata": {
        "id": "_50nhig8e8WB"
      }
    },
    {
      "cell_type": "markdown",
      "source": [
        "8. Используя модуль `array` и  библиотеку `numpy`, решить следующие задачи:<br>а) Дан массив $A$ размера $N$. Сформировать новый массив B того же размера по следующему правилу: элемент BK равен сумме элементов массива $A$ с номерами от 1 до $K$.<br>б) Дана матрица размера $M×N$. Элемент матрицы называется ее локальным минимумом, если он меньше всех окружающих его элементов. Заменить все локальные минимумы данной матрицы на нули."
      ],
      "metadata": {
        "id": "NAY9Y59jucwc"
      }
    },
    {
      "cell_type": "code",
      "source": [
        "# A\n",
        "import numpy as np\n",
        "\n",
        "def generate_array_B(A):\n",
        "    B = np.zeros_like(A)  # Создаем массив B с нулевыми значениями и такой же формой, как и A\n",
        "    for k in range(len(A)):\n",
        "        B[k] = np.sum(A[:k+1])  # Суммируем элементы A с индексами от 0 до k и записываем в B[k]\n",
        "    return B\n",
        "\n",
        "# Пример использования:\n",
        "A = np.array([1, 2, 3, 4, 5])\n",
        "B = generate_array_B(A)\n",
        "print(\"Массив A:\", A)\n",
        "print(\"Массив B:\", B)\n"
      ],
      "metadata": {
        "colab": {
          "base_uri": "https://localhost:8080/"
        },
        "id": "c1jWUITT8P5L",
        "outputId": "7f2da07b-957d-4556-85a6-e0532858c378"
      },
      "execution_count": 1,
      "outputs": [
        {
          "output_type": "stream",
          "name": "stdout",
          "text": [
            "Массив A: [1 2 3 4 5]\n",
            "Массив B: [ 1  3  6 10 15]\n"
          ]
        }
      ]
    },
    {
      "cell_type": "code",
      "source": [
        "# B\n",
        "import numpy as np\n",
        "\n",
        "def replace_local_minima(matrix):\n",
        "    M, N = matrix.shape\n",
        "    for i in range(1, M - 1):\n",
        "        for j in range(1, N - 1):\n",
        "            if matrix[i, j] < min(matrix[i-1,j-1],matrix[i-1,j+1],matrix[i+1,j-1],matrix[i+1,j+1]):  # Проверяем, является ли элемент матрицы локальным минимумом\n",
        "                matrix[i, j] = 0  # Если да, заменяем его на ноль\n",
        "    return matrix\n",
        "\n",
        "# Пример использования:\n",
        "matrixtest = np.array([[2, 2, 3],\n",
        "                   [4, -1, 5],\n",
        "                   [6, 7, 2]])\n",
        "\n",
        "print(\"Исходная матрица:\")\n",
        "print(matrixtest)\n",
        "\n",
        "result_matrix = replace_local_minima(matrixtest)\n",
        "print(\"Матрица после замены локальных минимумов на нули:\")\n",
        "print(result_matrix)"
      ],
      "metadata": {
        "colab": {
          "base_uri": "https://localhost:8080/"
        },
        "id": "3QezbtbM8yU1",
        "outputId": "21d46e60-1cc6-4572-de91-5d65e43cf0da"
      },
      "execution_count": 9,
      "outputs": [
        {
          "output_type": "stream",
          "name": "stdout",
          "text": [
            "Исходная матрица:\n",
            "[[ 2  2  3]\n",
            " [ 4 -1  5]\n",
            " [ 6  7  2]]\n",
            "Матрица после замены локальных минимумов на нули:\n",
            "[[2 2 3]\n",
            " [4 0 5]\n",
            " [6 7 2]]\n"
          ]
        }
      ]
    },
    {
      "cell_type": "markdown",
      "source": [
        "#### <font color='LightCoral'> **ЗАДАНИЕ 33.** Структуры данных: стек."
      ],
      "metadata": {
        "id": "Y5IzArqPfc6g"
      }
    },
    {
      "cell_type": "markdown",
      "source": [
        "8. Дан стек. Необходимо проверить, является ли его содержимое палиндромом (то есть читается одинаково как слева направо, так и справа налево)."
      ],
      "metadata": {
        "id": "qt-EN8Kov8xQ"
      }
    },
    {
      "cell_type": "code",
      "source": [
        "class Stack:\n",
        "    def __init__(self):\n",
        "        self.items = []\n",
        "\n",
        "    def push(self, item):\n",
        "        self.items.append(item)\n",
        "\n",
        "    def pop(self):\n",
        "        return self.items.pop()\n",
        "\n",
        "    def is_empty(self):\n",
        "        return len(self.items) == 0\n",
        "\n",
        "    def peek(self):\n",
        "        if not self.is_empty():\n",
        "            return self.items[-1]\n",
        "        else:\n",
        "            return None\n",
        "\n",
        "def is_palindrome(stack):\n",
        "    reversed_stack = Stack()  # Создаем пустой стек для хранения элементов в обратном порядке\n",
        "    original_stack = stack  # Копируем исходный стек\n",
        "\n",
        "    # Переносим элементы из исходного стека в обратном порядке в reversed_stack\n",
        "    while not original_stack.is_empty():\n",
        "        reversed_stack.push(original_stack.pop())\n",
        "\n",
        "    # Сравниваем элементы исходного стека с элементами reversed_stack\n",
        "    while not stack.is_empty():\n",
        "        if stack.pop() != reversed_stack.pop():\n",
        "            return False  # Если элементы не совпадают, стек не является палиндромом\n",
        "    return True  # Если все элементы совпадают, стек является палиндромом\n",
        "\n",
        "# Пример использования:\n",
        "s = Stack()\n",
        "s.push(1)\n",
        "s.push(2)\n",
        "s.push(3)\n",
        "s.push(2)\n",
        "s.push(1)\n",
        "\n",
        "print(\"Содержимое стека:\", s.items)\n",
        "\n",
        "if is_palindrome(s):\n",
        "    print(\"Стек является палиндромом\")\n",
        "else:\n",
        "    print(\"Стек не является палиндромом\")\n"
      ],
      "metadata": {
        "colab": {
          "base_uri": "https://localhost:8080/"
        },
        "id": "-H_0FLhz899U",
        "outputId": "1ced1a97-ef39-4260-896d-ea780765fc9c"
      },
      "execution_count": 10,
      "outputs": [
        {
          "output_type": "stream",
          "name": "stdout",
          "text": [
            "Содержимое стека: [1, 2, 3, 2, 1]\n",
            "Стек является палиндромом\n"
          ]
        }
      ]
    },
    {
      "cell_type": "markdown",
      "source": [
        "#### <font color='LightCoral'> **ЗАДАНИЕ 34.** Структуры данных: очередь."
      ],
      "metadata": {
        "id": "Zz7Pa6d9fp0N"
      }
    },
    {
      "cell_type": "markdown",
      "source": [
        "8. Создать класс двусторонней очереди, который будет поддерживать операции добавления элемента в начало и конец очереди, удаления элемента из начала и конца очереди, а также удаления минимального и максимального элементов из очереди."
      ],
      "metadata": {
        "id": "ceew3tR39V1e"
      }
    },
    {
      "cell_type": "code",
      "source": [
        "from collections import deque\n",
        "\n",
        "class MinMaxDeque:\n",
        "    def __init__(self):\n",
        "        self.deque = deque()\n",
        "        self.min_max_deque = deque()\n",
        "\n",
        "    def add_front(self, item):\n",
        "        self.deque.appendleft(item)\n",
        "        while self.min_max_deque and self.min_max_deque[-1] > item:\n",
        "            self.min_max_deque.pop()\n",
        "        self.min_max_deque.append(item)\n",
        "\n",
        "    def add_rear(self, item):\n",
        "        self.deque.append(item)\n",
        "        while self.min_max_deque and self.min_max_deque[-1] > item:\n",
        "            self.min_max_deque.pop()\n",
        "        self.min_max_deque.append(item)\n",
        "\n",
        "    def remove_front(self):\n",
        "        if not self.deque:\n",
        "            return None\n",
        "        item = self.deque.popleft()\n",
        "        if item == self.min_max_deque[0]:\n",
        "            self.min_max_deque.popleft()\n",
        "        return item\n",
        "\n",
        "    def remove_rear(self):\n",
        "        if not self.deque:\n",
        "            return None\n",
        "        item = self.deque.pop()\n",
        "        if item == self.min_max_deque[-1]:\n",
        "            self.min_max_deque.pop()\n",
        "        return item\n",
        "\n",
        "    def remove_min(self):\n",
        "        if not self.deque:\n",
        "            return None\n",
        "        return self.remove_front()\n",
        "\n",
        "    def remove_max(self):\n",
        "        if not self.deque:\n",
        "            return None\n",
        "        return self.remove_rear()\n",
        "\n",
        "    def __str__(self):\n",
        "        return str(self.deque)\n",
        "\n",
        "# Пример использования:\n",
        "d = MinMaxDeque()\n",
        "d.add_front(5)\n",
        "d.add_rear(10)\n",
        "d.add_front(3)\n",
        "d.add_rear(15)\n",
        "print(\"Двусторонняя очередь:\", d)\n",
        "\n",
        "print(\"Удаление минимального элемента:\", d.remove_min())\n",
        "print(\"Удаление максимального элемента:\", d.remove_max())\n",
        "print(\"После удаления минимального и максимального элементов:\", d)\n"
      ],
      "metadata": {
        "colab": {
          "base_uri": "https://localhost:8080/"
        },
        "id": "Y89MA2ry9KQ_",
        "outputId": "704400d3-d20a-42cc-b559-4fdb6b934717"
      },
      "execution_count": 11,
      "outputs": [
        {
          "output_type": "stream",
          "name": "stdout",
          "text": [
            "Двусторонняя очередь: deque([3, 5, 10, 15])\n",
            "Удаление минимального элемента: 3\n",
            "Удаление максимального элемента: 15\n",
            "После удаления минимального и максимального элементов: deque([5, 10])\n"
          ]
        }
      ]
    }
  ]
}