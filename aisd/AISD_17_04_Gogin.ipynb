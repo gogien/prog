{
  "nbformat": 4,
  "nbformat_minor": 0,
  "metadata": {
    "colab": {
      "provenance": [],
      "collapsed_sections": [
        "UHFP36oYlxVP",
        "Qtks3ldxSlRQ",
        "deqygj8V4cFn",
        "iTMMjxHx34ze",
        "hHvyt-v4tqHf",
        "CRGxay6Yuc7F",
        "jtrdGrUwvGSW",
        "JJyN-79_JHIz",
        "5ASh5cH0JJzO",
        "pSYyv9rQJKeQ",
        "LOrWCgzgJKqw",
        "sJf0cye_JKzu",
        "yUJ1yoYFJLRx",
        "RBeJ_jewJLc7",
        "J8W2WrivJLmB",
        "nbrmNnQkSqTF",
        "eEfJ3hdacn2O",
        "XdpHm6SQco3u",
        "AsCxG7xFcpFg",
        "nODNI4fhcpR_",
        "S1z_xRDucpkG",
        "tdV2beFdcpuO",
        "YbP9A-Z4cp5y",
        "jLbD02v5Ef9L",
        "jRQwjKp1cqGI",
        "nTJboR7ycqP2",
        "WtxZotV6eLD2",
        "s2CXmHkJeW6N",
        "YpP98h6Lej5f",
        "C_MzbmEnesp0",
        "ICWe68Cre6qx",
        "Ufb_V5ALe70J",
        "jIET26XX-1iW",
        "grEFfrT1Ptd9",
        "_50nhig8e8WB",
        "Y5IzArqPfc6g",
        "Zz7Pa6d9fp0N",
        "pbF7QemofsxE",
        "7km8KaMcftjL",
        "jFhR9iC2ftuv",
        "YbpTd9oaft6R",
        "83V3q8I8fuFK",
        "gttR9xjtFbtf",
        "meJCexfTfuPn"
      ]
    },
    "kernelspec": {
      "name": "python3",
      "display_name": "Python 3"
    },
    "language_info": {
      "name": "python"
    }
  },
  "cells": [
    {
      "cell_type": "markdown",
      "source": [
        "# <font color='CadetBlue'> **АЛГОРИТМЫ И СТРУКТУРЫ ДАННЫХ В ЯЗЫКЕ PYTHON**"
      ],
      "metadata": {
        "id": "fHbADoOlkw_e"
      }
    },
    {
      "cell_type": "markdown",
      "source": [
        "## <font color='CadetBlue'> **ВТОРОЙ СЕМЕСТР**"
      ],
      "metadata": {
        "id": "Eiz1r57hl3Lv"
      }
    },
    {
      "cell_type": "markdown",
      "source": [
        "### <font color='CadetBlue'> **I** —  февраль, март"
      ],
      "metadata": {
        "id": "WtxZotV6eLD2"
      }
    },
    {
      "cell_type": "markdown",
      "source": [
        "#### <font color='LightCoral'> **ЗАДАНИЕ 28.** Основы функционального программирования: лямбда-функции."
      ],
      "metadata": {
        "id": "ICWe68Cre6qx"
      }
    },
    {
      "cell_type": "markdown",
      "source": [
        "8. <br>а) Используя лямбда-функцию, из текущего времени извлеките год, месяц, дату и время.<br>б) Вычислите сумму положительных и отрицательных чисел заданного списка чисел, используя лямбда-функцию.<br>в) Для подсчёта вхождений элементов в заданный список используйте лямбда-функцию. _Пример_: `[3, 4, 5, 8, 0, 3, 8, 5, 0, 3, 1, 5, 2, 3, 4, 2]` → `{3: 4, 4: 2, 5: 3, 8: 2, 0: 2, 1: 1, 2: 2}`."
      ],
      "metadata": {
        "id": "_A47hwamjMIu"
      }
    },
    {
      "cell_type": "code",
      "source": [
        "from datetime import datetime\n",
        "\n",
        "current_time = datetime.now()\n",
        "\n",
        "get_year = lambda x: x.year\n",
        "get_month = lambda x: x.month\n",
        "get_date = lambda x: x.day\n",
        "get_time = lambda x: x.time()\n",
        "\n",
        "year = get_year(current_time)\n",
        "month = get_month(current_time)\n",
        "date = get_date(current_time)\n",
        "time = get_time(current_time)\n",
        "\n",
        "print(\"Год:\", year)\n",
        "print(\"Месяц:\", month)\n",
        "print(\"Дата:\", date)\n",
        "print(\"Время:\", time)"
      ],
      "metadata": {
        "id": "84EEpaLI48v4",
        "colab": {
          "base_uri": "https://localhost:8080/"
        },
        "outputId": "b6891c61-22d8-4b88-9b1d-9e9276a4d1f0"
      },
      "execution_count": 1,
      "outputs": [
        {
          "output_type": "stream",
          "name": "stdout",
          "text": [
            "Год: 2024\n",
            "Месяц: 4\n",
            "Дата: 17\n",
            "Время: 07:12:43.576162\n"
          ]
        }
      ]
    },
    {
      "cell_type": "code",
      "source": [
        "numbers = [10, -5, 3, -8, 7, -2, 0, -4, 6]\n",
        "\n",
        "positive_sum = sum(filter(lambda x: x > 0, numbers))\n",
        "negative_sum = sum(filter(lambda x: x < 0, numbers))\n",
        "\n",
        "print(\"Сумма положительных чисел:\", positive_sum)\n",
        "print(\"Сумма отрицательных чисел:\", negative_sum)"
      ],
      "metadata": {
        "id": "jFAsRhsX4_OV",
        "colab": {
          "base_uri": "https://localhost:8080/"
        },
        "outputId": "d2853a3a-35cf-4468-eaa7-5f648755ba54"
      },
      "execution_count": 2,
      "outputs": [
        {
          "output_type": "stream",
          "name": "stdout",
          "text": [
            "Сумма положительных чисел: 26\n",
            "Сумма отрицательных чисел: -19\n"
          ]
        }
      ]
    },
    {
      "cell_type": "code",
      "source": [
        "numbers = [3, 4, 5, 8, 0, 3, 8, 5, 0, 3, 1, 5, 2, 3, 4, 2]\n",
        "\n",
        "\n",
        "count_dict = {}\n",
        "for num in numbers:\n",
        "    count_dict[num] = count_dict.get(num, 0) + 1\n",
        "\n",
        "print(\"Вхождения каждого элемента:\")\n",
        "for key, value in count_dict.items():\n",
        "    print(f\"{key}: {value}\")"
      ],
      "metadata": {
        "id": "5O4oKNJP4_Xf",
        "colab": {
          "base_uri": "https://localhost:8080/"
        },
        "outputId": "c4b21eba-c419-4637-e062-691b225ce930"
      },
      "execution_count": 3,
      "outputs": [
        {
          "output_type": "stream",
          "name": "stdout",
          "text": [
            "Вхождения каждого элемента:\n",
            "3: 4\n",
            "4: 2\n",
            "5: 3\n",
            "8: 2\n",
            "0: 2\n",
            "1: 1\n",
            "2: 2\n"
          ]
        }
      ]
    },
    {
      "cell_type": "markdown",
      "source": [
        "#### <font color='LightCoral'> **ЗАДАНИЕ 29.** Основы функционального программирования: функции `map`, `filter`, `reduce`."
      ],
      "metadata": {
        "id": "Ufb_V5ALe70J"
      }
    },
    {
      "cell_type": "markdown",
      "source": [
        "8. <br>а) Преобразуйте заданный список целых чисел и кортеж целых чисел в список строк. _Пример_: `[1, 2, 3, 4]`, `(0, 1, 2, 3)` → `['1', '2', '3', '4']`, `('0', '1', '2', '3')`.<br>б) Сгенерировать список целых чисел. С помощью функции `filter()` выбрать из списка все числа меньше заданного числа   и упорядочить их по возрастанию. Используя функцию `reduce()`, найти их произведение."
      ],
      "metadata": {
        "id": "OhgXcAV_op6C"
      }
    },
    {
      "cell_type": "code",
      "source": [
        "int_list = [1, 2, 3, 4, 5]\n",
        "\n",
        "int_tuple = (6, 7, 8, 9, 10)\n",
        "\n",
        "\n",
        "str_list_int = list(map(lambda x: str(x), int_list))\n",
        "\n",
        "str_list_tuple = list(map(lambda x: str(x), int_tuple))\n",
        "\n",
        "print(\"Список строк из списка целых чисел:\", str_list_int)\n",
        "print(\"Список строк из кортежа целых чисел:\", str_list_tuple)"
      ],
      "metadata": {
        "colab": {
          "base_uri": "https://localhost:8080/"
        },
        "id": "GspSs63P5qhO",
        "outputId": "fd19f45e-0d7d-4357-f56d-6fc89e81bd44"
      },
      "execution_count": 4,
      "outputs": [
        {
          "output_type": "stream",
          "name": "stdout",
          "text": [
            "Список строк из списка целых чисел: ['1', '2', '3', '4', '5']\n",
            "Список строк из кортежа целых чисел: ['6', '7', '8', '9', '10']\n"
          ]
        }
      ]
    },
    {
      "cell_type": "code",
      "source": [
        "from functools import reduce\n",
        "from random import randint\n",
        "number_list = [randint(1,100) for i in range(9)]\n",
        "\n",
        "threshold = 6\n",
        "\n",
        "filtered_numbers = sorted(filter(lambda x: x < threshold, number_list))\n",
        "\n",
        "print(\"Числа меньше\", threshold, \"и упорядоченные по возрастанию:\", filtered_numbers)\n",
        "\n",
        "product = reduce(lambda x, y: x * y, filtered_numbers)\n",
        "\n",
        "print(\"Произведение выбранных чисел:\", product)"
      ],
      "metadata": {
        "colab": {
          "base_uri": "https://localhost:8080/"
        },
        "id": "YTCIlFBy5qqC",
        "outputId": "a2998008-70d2-4de5-bf50-f76376081a04"
      },
      "execution_count": 5,
      "outputs": [
        {
          "output_type": "stream",
          "name": "stdout",
          "text": [
            "Числа меньше 6 и упорядоченные по возрастанию: [2, 4, 5]\n",
            "Произведение выбранных чисел: 40\n"
          ]
        }
      ]
    },
    {
      "cell_type": "markdown",
      "source": [
        "#### <font color='LightCoral'> **ЗАДАНИЕ 30.** Декораторы."
      ],
      "metadata": {
        "id": "jIET26XX-1iW"
      }
    },
    {
      "cell_type": "markdown",
      "source": [
        "8. <br>а) Создайте декоратор, который будет логировать ошибки, возникающие при выполнении функции, и отправлять уведомления об этих ошибках.<br>б) Создайте декоратор, который будет принимать словарь аргументов и передавать его в функцию с заданными значениями по умолчанию."
      ],
      "metadata": {
        "id": "D93ssi2iBbD6"
      }
    },
    {
      "cell_type": "code",
      "source": [
        "import logging\n",
        "\n",
        "# Конфигурирование логирования\n",
        "logging.basicConfig(filename='error.log', level=logging.ERROR, format='%(asctime)s - %(levelname)s - %(message)s')\n",
        "\n",
        "# Функция для отправки уведомлений\n",
        "def send_notification(error_message):\n",
        "    # Здесь должен быть код отправки уведомлений, например, по электронной почте или через мессенджер\n",
        "    print(\"Sending notification:\", error_message)\n",
        "\n",
        "# Декоратор для логирования ошибок и отправки уведомлений\n",
        "def log_and_notify(func):\n",
        "    def wrapper(*args, **kwargs):\n",
        "        try:\n",
        "            return func(*args, **kwargs)\n",
        "        except Exception as e:\n",
        "            error_message = f\"Error in function '{func.__name__}': {str(e)}\"\n",
        "            logging.error(error_message)\n",
        "            send_notification(error_message)\n",
        "            raise\n",
        "    return wrapper\n",
        "\n",
        "# Пример использования декоратора\n",
        "@log_and_notify\n",
        "def example_function(x, y):\n",
        "    return x / y\n",
        "\n",
        "# Тестирование функции\n",
        "try:\n",
        "    result = example_function(10, 0)\n",
        "except Exception as e:\n",
        "    print(\"An error occurred:\", e)"
      ],
      "metadata": {
        "colab": {
          "base_uri": "https://localhost:8080/"
        },
        "id": "vB-WECQO_Ljj",
        "outputId": "6fcc79bb-555c-4e4c-be53-2954198b838e"
      },
      "execution_count": 6,
      "outputs": [
        {
          "output_type": "stream",
          "name": "stderr",
          "text": [
            "ERROR:root:Error in function 'example_function': division by zero\n"
          ]
        },
        {
          "output_type": "stream",
          "name": "stdout",
          "text": [
            "Sending notification: Error in function 'example_function': division by zero\n",
            "An error occurred: division by zero\n"
          ]
        }
      ]
    },
    {
      "cell_type": "code",
      "source": [
        "def with_defaults(default_args):\n",
        "    def decorator(func):\n",
        "        def wrapper(*args, **kwargs):\n",
        "            # Объединяем словарь аргументов по умолчанию с переданными аргументами\n",
        "            merged_args = default_args.copy()\n",
        "            merged_args.update(kwargs)\n",
        "            return func(*args, **merged_args)\n",
        "        return wrapper\n",
        "    return decorator\n",
        "\n",
        "# Пример использования декоратора\n",
        "@with_defaults({\"x\": 0, \"y\": 0})\n",
        "def example_function(x, y):\n",
        "    return x + y\n",
        "\n",
        "# Тестирование функции\n",
        "result = example_function()\n",
        "print(\"Результат:\", result)  # Выведет: 0, так как оба аргумента по умолчанию равны 0\n",
        "result = example_function(x=3)\n",
        "print(\"Результат:\", result)  # Выведет: 3, так как значение x переопределено\n",
        "result = example_function(y=5)\n",
        "print(\"Результат:\", result)  # Выведет: 5, так как значение y переопределено\n",
        "result = example_function(x=2, y=4)\n",
        "print(\"Результат:\", result)  # Выведет: 6, так как оба значения переопределены"
      ],
      "metadata": {
        "colab": {
          "base_uri": "https://localhost:8080/"
        },
        "id": "zYx7bn9m_Lue",
        "outputId": "f98f6f58-932f-497a-aa34-9f53a97efc65"
      },
      "execution_count": 7,
      "outputs": [
        {
          "output_type": "stream",
          "name": "stdout",
          "text": [
            "Результат: 0\n",
            "Результат: 3\n",
            "Результат: 5\n",
            "Результат: 6\n"
          ]
        }
      ]
    }
  ]
}