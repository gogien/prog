{
 "cells": [
  {
   "cell_type": "markdown",
   "id": "14c083e9-0a1a-4b32-adad-830117c11081",
   "metadata": {},
   "source": [
    "## а) Создать класс «Сотрудник» с полями «Имя», «Фамилия», «Должность» и «Зарплата». Создать хеш-таблицу для хранения объектов класса «Сотрудник» по ключу — табельному номеру.\n",
    "## б) Написать функцию для удаления всех дубликатов из хеш-таблицы."
   ]
  },
  {
   "cell_type": "code",
   "execution_count": 5,
   "id": "53d082fa-90b7-40b4-b0ee-7ec59c3712a5",
   "metadata": {},
   "outputs": [
    {
     "name": "stdout",
     "output_type": "stream",
     "text": [
      "До удаления дубликатов:\n",
      "[[(0, Employee(John, Doe, Developer, 50000)), (0, Employee(John, Doe, Developer, 50000))], [(1, Employee(Jane, Smith, Manager, 60000))], None, None, None]\n",
      "После удаления дубликатов:\n",
      "[[(0, Employee(John, Doe, Developer, 50000))], [(1, Employee(Jane, Smith, Manager, 60000))], None, None, None]\n"
     ]
    }
   ],
   "source": [
    "# Хеш таблица - это просто словарь, но в другом виде, вместо ключей - индекс. Если индекс больше чем длина хеш-таблицы - \n",
    "# то берется остаток от деления индекса на длину\n",
    "class Employee:\n",
    "    # Конструктор класса Employee инициализирует поля имени, фамилии, должности и зарплаты\n",
    "    def __init__(self, first_name, last_name, position, zarplata):\n",
    "        self.first_name = first_name\n",
    "        self.last_name = last_name\n",
    "        self.position = position\n",
    "        self.zarplata = zarplata\n",
    "\n",
    "    # Метод для представления объекта Employee в виде строки\n",
    "    def __repr__(self):\n",
    "        return f\"Employee({self.first_name}, {self.last_name}, {self.position}, {self.zarplata})\"\n",
    "\n",
    "class EmployeeHashTable:\n",
    "    # Конструктор класса EmployeeHashTable инициализирует размер таблицы и саму таблицу как список заданного размера\n",
    "    def __init__(self, size=5):\n",
    "        self.size = size\n",
    "        self.table = [None] * size\n",
    "\n",
    "    # Метод для вычисления индекса по табельному номеру\n",
    "    def hash(self, employee_id):\n",
    "        return employee_id % self.size\n",
    "\n",
    "    # Метод для добавления сотрудника в хеш-таблицу по табельному номеру\n",
    "    def add_employee(self, employee_id, employee):\n",
    "        index = self.hash(employee_id)  # Вычисляем индекс в таблице\n",
    "        if self.table[index] is None:\n",
    "            self.table[index] = []  # Если по индексу пусто, создаем новый список\n",
    "        self.table[index].append((employee_id, employee))  # Добавляем сотрудника в список по индексу\n",
    "\n",
    "    # Метод для получения сотрудника из хеш-таблицы по табельному номеру\n",
    "    def get_employee(self, employee_id):\n",
    "        index = self.hash(employee_id)  # Вычисляем индекс в таблице\n",
    "        if self.table[index] is not None:\n",
    "            for eid, emp in self.table[index]:  # Ищем сотрудника в списке по индексу\n",
    "                if eid == employee_id:\n",
    "                    return emp  # Возвращаем сотрудника, если найден\n",
    "        return None  # Возвращаем None, если сотрудник не найден\n",
    "\n",
    "    # Метод для удаления всех дубликатов из хеш-таблицы\n",
    "    def delete_duplicates(self):\n",
    "        unique_entries = {}  # Создаем словарь для уникальных записей\n",
    "        for index in range(self.size):\n",
    "            if self.table[index] is not None:\n",
    "                for employee_id, employee in self.table[index]:\n",
    "                    if employee_id not in unique_entries:\n",
    "                        unique_entries[employee_id] = employee  # Добавляем уникальную запись в словарь\n",
    "        self.table = [None] * self.size  # Очищаем таблицу\n",
    "        for employee_id, employee in unique_entries.items():\n",
    "            self.add_employee(employee_id, employee)  # Добавляем уникальные записи обратно в таблицу\n",
    "\n",
    "# Пример использования:\n",
    "employee_table = EmployeeHashTable()\n",
    "employee1 = Employee(\"John\", \"Doe\", \"Developer\", 50000)\n",
    "employee2 = Employee(\"Jane\", \"Smith\", \"Manager\", 60000)\n",
    "employee_table.add_employee(0, employee1)  # Добавляем сотрудника с табельным номером 0\n",
    "employee_table.add_employee(1, employee2)  # Добавляем сотрудника с табельным номером 1\n",
    "employee_table.add_employee(0, employee1)  # Добавляем дубликат сотрудника с табельным номером 0\n",
    "\n",
    "print(\"До удаления дубликатов:\")\n",
    "print(employee_table.table)  # Выводим таблицу до удаления дубликатов\n",
    "employee_table.delete_duplicates()  # Удаляем дубликаты\n",
    "print(\"После удаления дубликатов:\")\n",
    "print(employee_table.table)  # Выводим таблицу после удаления дубликатов"
   ]
  },
  {
   "cell_type": "markdown",
   "id": "447d8624-4819-4c37-8696-d5b741fca14f",
   "metadata": {},
   "source": [
    "## в) Реализуйте хеш-таблицу для хранения информации о книгах в библиотеке. Ключом является ISBN книги, значение — объект, содержащий информацию о книге (название, автор, количество экземпляров и т.д.). Используйте метод разрешения коллизий методом открытой адресации с квадратичным пробированием."
   ]
  },
  {
   "cell_type": "code",
   "execution_count": 7,
   "id": "57d9dca6-a292-40ca-8f7d-9a2806850adc",
   "metadata": {},
   "outputs": [
    {
     "name": "stdout",
     "output_type": "stream",
     "text": [
      "Book(1984, Оруэл, 5)\n",
      "Book(Евгений Онегин, Пушкин, 3)\n"
     ]
    }
   ],
   "source": [
    "# метод разрешения коллизий - метод, который помогает поменять индекс элемента, если он уже был использован\n",
    "# метод открытой адресации с квадратичным пробированием - метод измениния индекса через квадратичную функцию, который \n",
    "# используется столько раз, \n",
    "# пока не найдется пустой индекс (квадратичная функция: новый_индекс = индекс_(i-1)_попытки + i^2, где i - номер попытки)\n",
    "\n",
    "class Book:\n",
    "    # Конструктор класса Book инициализирует поля названия, автора и количества экземпляров\n",
    "    def __init__(self, nazvanie, author, copies):\n",
    "        self.nazvanie = nazvanie\n",
    "        self.author = author\n",
    "        self.copies = copies\n",
    "\n",
    "    # Метод для удобного представления объекта Book в виде строки\n",
    "    def __repr__(self):\n",
    "        return f\"Book({self.nazvanie}, {self.author}, {self.copies})\"\n",
    "\n",
    "class BookHashTable:\n",
    "    # Конструктор класса BookHashTable инициализирует размер таблицы и саму таблицу как список заданного размера\n",
    "    def __init__(self, size=5):\n",
    "        self.size = size\n",
    "        self.table = [None] * size\n",
    "\n",
    "    #  метод для вычисления хеша по ISBN\n",
    "    def hash(self, isbn):\n",
    "        return isbn % self.size\n",
    "\n",
    "    # метод для вычисления нового индекса при коллизии методом квадратичного пробирования\n",
    "    def probe(self, index, step):\n",
    "        return (index + step ** 2) % self.size\n",
    "\n",
    "    # Метод для добавления книги в хеш-таблицу по ISBN\n",
    "    def add_book(self, isbn, book):\n",
    "        index = self.hash(isbn)  # Вычисляем начальный индекс\n",
    "        step = 1\n",
    "        while self.table[index] is not None and self.table[index][0] != isbn:\n",
    "            index = self.probe(index, step)  # Вычисляем новый индекс при коллизии\n",
    "            step += 1\n",
    "        self.table[index] = (isbn, book)  # Добавляем книгу в таблицу по вычисленному индексу\n",
    "\n",
    "    # Метод для получения книги из хеш-таблицы по ISBN\n",
    "    def get_book(self, isbn):\n",
    "        index = self.hash(isbn)  # Вычисляем начальный индекс\n",
    "        step = 1\n",
    "        while self.table[index] is not None:\n",
    "            if self.table[index][0] == isbn:\n",
    "                return self.table[index][1]  # Возвращаем книгу, если ISBN совпадает\n",
    "            index = self.probe(index, step)  # Вычисляем новый индекс при коллизии\n",
    "            step += 1\n",
    "        return None  # Возвращаем None, если книга не найдена\n",
    "\n",
    "# Пример использования:\n",
    "book_table = BookHashTable()\n",
    "book1 = Book(\"1984\", \"Оруэл\", 5)\n",
    "book2 = Book(\"Евгений Онегин\", \"Пушкин\", 3)\n",
    "book_table.add_book(123456789, book1)  # Добавляем книгу с ISBN 123456789\n",
    "book_table.add_book(987654321, book2)  # Добавляем книгу с ISBN 987654321\n",
    "\n",
    "print(book_table.get_book(123456789))  # Получаем книгу по ISBN 123456789\n",
    "print(book_table.get_book(987654321))  # Получаем книгу по ISBN 987654321"
   ]
  },
  {
   "cell_type": "code",
   "execution_count": null,
   "id": "7e8a3e88-15ba-4f6f-a1d7-6240a7106a29",
   "metadata": {},
   "outputs": [],
   "source": []
  }
 ],
 "metadata": {
  "kernelspec": {
   "display_name": "Python 3 (ipykernel)",
   "language": "python",
   "name": "python3"
  },
  "language_info": {
   "codemirror_mode": {
    "name": "ipython",
    "version": 3
   },
   "file_extension": ".py",
   "mimetype": "text/x-python",
   "name": "python",
   "nbconvert_exporter": "python",
   "pygments_lexer": "ipython3",
   "version": "3.11.5"
  }
 },
 "nbformat": 4,
 "nbformat_minor": 5
}
