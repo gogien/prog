{
 "cells": [
  {
   "cell_type": "markdown",
   "id": "0f68ab41",
   "metadata": {},
   "source": [
    "# 6 вариант"
   ]
  },
  {
   "cell_type": "markdown",
   "id": "7b703641",
   "metadata": {},
   "source": [
    "<div class = \"alert-success\">\n",
    "    \n",
    "**38**"
   ]
  },
  {
   "cell_type": "markdown",
   "id": "91db0c8b-6b40-49c2-b8fc-f48b72865533",
   "metadata": {},
   "source": [
    "Необходимо отсортировать массив чисел по частоте их встречаемости и вывести результат на экран. В зависимости от переданного параметра отсортировать массив чисел по возрастанию частоты их встречаемости или по убыванию частоты их встречаемости, используя алгоритмы сортировки: сортировку пузырьком, сортировку выбором и быструю сортировку. Сравнить время выполнения алгоритмов сортировки с помощью декоратора. Числа хранятся в файле."
   ]
  },
  {
   "cell_type": "code",
   "execution_count": 10,
   "id": "b3e77de2-f3be-487a-81f5-db877e3fb4fa",
   "metadata": {},
   "outputs": [
    {
     "name": "stdout",
     "output_type": "stream",
     "text": [
      "Bubble Sort:\n",
      "Sorted numbers: [1, 5, 3, 7, 2, 8, 4, 9, 6]\n",
      "sort_and_print took 0.0000000000 seconds\n",
      "\n",
      "Selection Sort:\n",
      "Sorted numbers: [1, 5, 3, 7, 2, 8, 4, 9, 6]\n",
      "sort_and_print took 0.0009696484 seconds\n",
      "\n",
      "Quick Sort:\n",
      "Sorted numbers: [1, 5, 3, 7, 2, 8, 4, 9, 6]\n",
      "sort_and_print took 0.0000000000 seconds\n"
     ]
    }
   ],
   "source": [
    "from collections import Counter # Создает словарь с количеством повторений каждого числа\n",
    "\n",
    "# Функция для чтения чисел из файла\n",
    "def read_numbers_from_file(file_path):\n",
    "    # Открываем файл в режиме чтения\n",
    "    with open(file_path, 'r') as file:\n",
    "        # Читаем каждую строку, убираем пробелы и преобразуем в целые числа\n",
    "        numbers = [int(line.strip()) for line in file]\n",
    "    # Возвращаем список чисел\n",
    "    return numbers\n",
    "\n",
    "# Функция для подсчета частотности чисел\n",
    "def count_frequencies(numbers):\n",
    "    # Используем Counter для подсчета количества каждого числа\n",
    "    return Counter(numbers)\n",
    "\n",
    "# Реализация пузырьковой сортировки\n",
    "def bubble_sort(arr, key=lambda x: x, reverse=False):\n",
    "    # Определяем длину массива\n",
    "    n = len(arr)\n",
    "    # Внешний цикл\n",
    "    for i in range(n):\n",
    "        # Внутренний цикл для сравнения соседних элементов\n",
    "        for j in range(0, n-i-1):\n",
    "            # Сравниваем элементы с учетом ключа и направления сортировки\n",
    "            # ^ - xor\n",
    "            if (key(arr[j]) > key(arr[j+1])) ^ reverse:\n",
    "                # Меняем элементы местами\n",
    "                arr[j], arr[j+1] = arr[j+1], arr[j]\n",
    "    # Возвращаем отсортированный массив\n",
    "    return arr\n",
    "\n",
    "# Реализация сортировки выбором\n",
    "def selection_sort(arr, key=lambda x: x, reverse=False):\n",
    "    # Определяем длину массива\n",
    "    n = len(arr)\n",
    "    # Внешний цикл\n",
    "    for i in range(n):\n",
    "        # Индекс минимального (или максимального) элемента\n",
    "        idx = i\n",
    "        # Внутренний цикл для поиска минимального (или максимального) элемента\n",
    "        for j in range(i+1, n):\n",
    "            # Сравниваем элементы с учетом ключа и направления сортировки\n",
    "            if (key(arr[j]) < key(arr[idx])) ^ reverse:\n",
    "                idx = j\n",
    "        # Меняем элементы местами\n",
    "        arr[i], arr[idx] = arr[idx], arr[i]\n",
    "    # Возвращаем отсортированный массив\n",
    "    return arr\n",
    "\n",
    "# Реализация быстрой сортировки\n",
    "def quick_sort(arr, key=lambda x: x, reverse=False):\n",
    "    # Базовый случай рекурсии\n",
    "    if len(arr) <= 1:\n",
    "        return arr\n",
    "    # Выбираем опорный элемент\n",
    "    pivot = arr[len(arr) // 2]\n",
    "    # Создаем подмассивы для элементов меньше, равных и больше опорного\n",
    "    left = [x for x in arr if (key(x) < key(pivot)) ^ reverse]\n",
    "    middle = [x for x in arr if key(x) == key(pivot)]\n",
    "    right = [x for x in arr if (key(x) > key(pivot)) ^ reverse]\n",
    "    # Рекурсивно сортируем и объединяем подмассивы\n",
    "    return quick_sort(left, key, reverse) + middle + quick_sort(right, key, reverse)\n",
    "\n",
    "import time\n",
    "\n",
    "# Декоратор для измерения времени выполнения функции\n",
    "def time_decorator(func):\n",
    "    def wrapper(*args, **kwargs):\n",
    "        # Записываем время начала выполнения\n",
    "        start_time = time.time()\n",
    "        # Выполняем функцию\n",
    "        result = func(*args, **kwargs)\n",
    "        # Записываем время окончания выполнения\n",
    "        end_time = time.time()\n",
    "        # Выводим затраченное время\n",
    "        print(f\"{func.__name__} took {end_time - start_time:.10f} seconds\")\n",
    "        # Сокращение f означает \"форматирование числа с плавающей запятой\", а .10 задает количество цифр после запятой.\n",
    "        return result\n",
    "    return wrapper\n",
    "\n",
    "# Функция для сортировки и вывода результатов, обернутая декоратором для измерения времени\n",
    "@time_decorator\n",
    "def sort_and_print(numbers, method, reverse=False):\n",
    "    # Подсчитываем частотность чисел\n",
    "    freq = count_frequencies(numbers)\n",
    "    # Преобразуем частотность в список кортежей (число, количество)\n",
    "    items = list(freq.items())\n",
    "    # Сортируем кортежи по количеству с использованием указанного метода сортировки\n",
    "    sorted_items = method(items, key=lambda x: x[1], reverse=reverse)\n",
    "    # Извлекаем отсортированные числа из отсортированных кортежей\n",
    "    sorted_numbers = [item[0] for item in sorted_items]\n",
    "    # Выводим отсортированные числа\n",
    "    print(f\"Sorted numbers: {sorted_numbers}\")\n",
    "\n",
    "# Путь к файлу с числами\n",
    "file_path = 'numbers.txt'\n",
    "# Читаем числа из файла\n",
    "numbers = read_numbers_from_file(file_path)\n",
    "# Выводим результаты сортировки методом пузырьковой сортировки\n",
    "print(\"Bubble Sort:\")\n",
    "sort_and_print(numbers, bubble_sort, reverse=False)\n",
    "\n",
    "# Выводим результаты сортировки методом сортировки выбором\n",
    "print(\"\\nSelection Sort:\")\n",
    "sort_and_print(numbers, selection_sort, reverse=False)\n",
    "\n",
    "# Выводим результаты сортировки методом быстрой сортировки\n",
    "print(\"\\nQuick Sort:\")\n",
    "sort_and_print(numbers, quick_sort, reverse=False)"
   ]
  },
  {
   "cell_type": "markdown",
   "id": "e0c2d688",
   "metadata": {},
   "source": [
    "<div class = \"alert-success\">\n",
    "    \n",
    "**39**"
   ]
  },
  {
   "cell_type": "markdown",
   "id": "9e0810b7-8b4b-456d-94d7-326e1edf4554",
   "metadata": {},
   "source": [
    "Реализовать класс бинарного дерева. Написать функцию для нахождения наименьшего общего предка двух узлов в бинарном дереве."
   ]
  },
  {
   "cell_type": "code",
   "execution_count": 16,
   "id": "eb5885e2-9982-42a4-9bed-e26b52570e12",
   "metadata": {},
   "outputs": [
    {
     "name": "stdout",
     "output_type": "stream",
     "text": [
      "НОП(4, 5) = 2\n",
      "НОП(4, 6) = 1\n",
      "НОП(3, 4) = 1\n",
      "НОП(2, 4) = 2\n"
     ]
    }
   ],
   "source": [
    "class Node:\n",
    "    def __init__(self, key):\n",
    "        self.key = key\n",
    "        self.left = None\n",
    "        self.right = None\n",
    "\n",
    "def find_lca(root, node1, node2):\n",
    "    if root is None:\n",
    "        return None\n",
    "\n",
    "    # Если один из узлов является корнем, то он и будет LCA\n",
    "    if root.key == node1 or root.key == node2:\n",
    "        return root\n",
    "\n",
    "    # Рекурсивный вызов для левого и правого поддеревьев\n",
    "    left_lca = find_lca(root.left, node1, node2)\n",
    "    right_lca = find_lca(root.right, node1, node2)\n",
    "\n",
    "    # Если оба узла находятся в разных поддеревьях,\n",
    "    # то корень является их LCA\n",
    "    if left_lca and right_lca:\n",
    "        return root\n",
    "\n",
    "    # В противном случае LCA находится в одном из поддеревьев\n",
    "    return left_lca if left_lca else right_lca\n",
    "\n",
    "# Пример использования:\n",
    "\"\"\"\n",
    "            1\n",
    "          /   \\\n",
    "        2      3\n",
    "       / \\    / \\\n",
    "      4   5  6   7\n",
    "\"\"\"\n",
    "root = Node(1)\n",
    "root.left = Node(2)\n",
    "root.right = Node(3)\n",
    "root.left.left = Node(4)\n",
    "root.left.right = Node(5)\n",
    "root.right.left = Node(6)\n",
    "root.right.right = Node(7)\n",
    "\n",
    "print(\"НОП(4, 5) =\", find_lca(root, 4, 5).key) # Ожидаемый результат: 2\n",
    "print(\"НОП(4, 6) =\", find_lca(root, 4, 6).key) # Ожидаемый результат: 1\n",
    "print(\"НОП(3, 4) =\", find_lca(root, 3, 4).key) # Ожидаемый результат: 1\n",
    "print(\"НОП(2, 4) =\", find_lca(root, 2, 4).key) # Ожидаемый результат: 2"
   ]
  },
  {
   "cell_type": "markdown",
   "id": "7edbc2fb",
   "metadata": {},
   "source": [
    "<div class = \"alert-success\">\n",
    "    \n",
    "**40**"
   ]
  },
  {
   "cell_type": "markdown",
   "id": "4e49cc39-c635-4dcd-8112-219214324c89",
   "metadata": {},
   "source": [
    "Предоставлен набор данных, содержащий информацию о студентах и их оценках. Разработайте систему ранжирования студентов по их среднему баллу с использованием двоичной кучи."
   ]
  },
  {
   "cell_type": "code",
   "execution_count": 20,
   "id": "a5f5226d-dbd4-447d-9014-ed4cb6e706fd",
   "metadata": {},
   "outputs": [
    {
     "name": "stdout",
     "output_type": "stream",
     "text": [
      "Лучший студент: Чарли, средний балл: 92.33333333333333\n"
     ]
    }
   ],
   "source": [
    "import heapq  # Импортируем модуль heapq для работы с двоичной кучей\n",
    "\n",
    "class Student:\n",
    "    def __init__(self, name, grades):\n",
    "        self.name = name  # Имя студента\n",
    "        self.grades = grades  # Список оценок студента\n",
    "        self.avg_grade = sum(grades) / len(grades)  # Рассчитываем средний балл студента\n",
    "    \n",
    "    def __lt__(self, other):\n",
    "        return self.avg_grade > other.avg_grade  # Определяем оператор сравнения для сортировки по среднему баллу\n",
    "\n",
    "class StudentRankingSystem:\n",
    "    def __init__(self):\n",
    "        self.students_heap = []  # Инициализируем пустую кучу для хранения студентов\n",
    "    \n",
    "    def add_student(self, student):\n",
    "        heapq.heappush(self.students_heap, student)  # Добавляем студента в кучу с сохранением порядка\n",
    "    \n",
    "    def get_top_student(self):\n",
    "        return heapq.heappop(self.students_heap) if self.students_heap else None  # Извлекаем студента с наивысшим средним баллом\n",
    "\n",
    "# Пример использования\n",
    "if __name__ == \"__main__\":\n",
    "    # Создаем некоторых студентов\n",
    "    student1 = Student(\"Алиса\", [90, 85, 95])  # Создаем студента Алису с оценками\n",
    "    student2 = Student(\"Боб\", [88, 92, 85])  # Создаем студента Боба с оценками\n",
    "    student3 = Student(\"Чарли\", [95, 90, 92])  # Создаем студента Чарли с оценками\n",
    "    \n",
    "    # Создаем систему ранжирования\n",
    "    ranking_system = StudentRankingSystem()\n",
    "    \n",
    "    # Добавляем студентов в систему\n",
    "    ranking_system.add_student(student1)  # Добавляем студента Алису в систему\n",
    "    ranking_system.add_student(student2)  # Добавляем студента Боба в систему\n",
    "    ranking_system.add_student(student3)  # Добавляем студента Чарли в систему\n",
    "    \n",
    "    # Получаем и выводим наивысшего приоритетного студента (студента с наивысшим средним баллом)\n",
    "    top_student = ranking_system.get_top_student()  # Получаем лучшего студента из системы\n",
    "    if top_student:  # Если студент найден\n",
    "        print(f\"Лучший студент: {top_student.name}, средний балл: {top_student.avg_grade}\")  # Выводим информацию о лучшем студенте\n",
    "    else:  # Если студент не найден\n",
    "        print(\"Студентов в системе нет\")  # Выводим сообщение о том, что студентов нет"
   ]
  }
 ],
 "metadata": {
  "kernelspec": {
   "display_name": "Python 3 (ipykernel)",
   "language": "python",
   "name": "python3"
  },
  "language_info": {
   "codemirror_mode": {
    "name": "ipython",
    "version": 3
   },
   "file_extension": ".py",
   "mimetype": "text/x-python",
   "name": "python",
   "nbconvert_exporter": "python",
   "pygments_lexer": "ipython3",
   "version": "3.11.5"
  }
 },
 "nbformat": 4,
 "nbformat_minor": 5
}
