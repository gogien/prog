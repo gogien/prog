{
 "cells": [
  {
   "cell_type": "markdown",
   "metadata": {},
   "source": [
    "### Контрольная работа № 1.\n",
    "### Вариант 2.\n",
    "#### Студент Гогин Григорий Андреевич группа ИД23-3"
   ]
  },
  {
   "cell_type": "markdown",
   "metadata": {},
   "source": [
    "1. Напишите программу, которая выполняет добавление, удаление и вывод на экран элементов списка при помощи классов. \n",
    "\n",
    "Решение задачи\n",
    "\n",
    "1.\tСоздаем класс и с помощью конструктора инициализируем значения этого класса.\n",
    "2.\tСоздаем в данном классе методы для добавления, удаления и вывода на экран соответствующих значений.\n",
    "3.\tСоздаем объект данного класса.\n",
    "4.\tИспользуя созданный объект, вызываем соответствующий метод (в зависимости от выбора пользователя).\n",
    "5.\tВыводим результат на экран.\n",
    "6.\tКонец.\n",
    "\n",
    "В программе реализовать выбор с помощью меню:\n",
    "\n",
    "print(\"0. Выход\")\n",
    "\n",
    "print(\"1. Добавить\")\n",
    "\n",
    "print(\"2. Удалить\")\n",
    "\n",
    "print(\"3. Вывести на экран\")\n",
    "\n",
    "choice = int(input(\"Выберите одно из этих значений: \"))\n",
    "\n"
   ]
  },
  {
   "cell_type": "code",
   "execution_count": 2,
   "metadata": {},
   "outputs": [
    {
     "name": "stdout",
     "output_type": "stream",
     "text": [
      "0. Выход\n",
      "1. Добавить\n",
      "2. Удалить\n",
      "3. Вывести на экран\n",
      "Выберите одно из этих значений: 0\n",
      "Программа завершена.\n"
     ]
    }
   ],
   "source": [
    "class MyList(object):\n",
    "    def __init__(self):\n",
    "        self.my_list = []\n",
    "\n",
    "    def add_element(self, element):\n",
    "        self.my_list.append(element)\n",
    "        print(\"Элемент добавлен в список.\")\n",
    "\n",
    "    def remove_element(self, element):\n",
    "        if element in self.my_list:\n",
    "            self.my_list.remove(element)\n",
    "            print(\"Элемент удален из списка.\")\n",
    "        else:\n",
    "            print(\"Элемент не найден в списке.\")\n",
    "\n",
    "    def display_list(self):\n",
    "        if len(self.my_list)>0:\n",
    "            print(\"Элементы списка:\")\n",
    "            for element in self.my_list:\n",
    "                print(element)\n",
    "        else:\n",
    "            print('Список пуст')\n",
    "\n",
    "my_list_obj = MyList()\n",
    "\n",
    "while True:\n",
    "    print(\"0. Выход\")\n",
    "    print(\"1. Добавить\")\n",
    "    print(\"2. Удалить\")\n",
    "    print(\"3. Вывести на экран\")\n",
    "    \n",
    "    choice = int(input(\"Выберите одно из этих значений: \"))\n",
    "\n",
    "    if choice == 0:\n",
    "        print(\"Программа завершена.\")\n",
    "        break\n",
    "    elif choice == 1:\n",
    "        element = input(\"Введите элемент для добавления: \")\n",
    "        my_list_obj.add_element(element)\n",
    "    elif choice == 2:\n",
    "        element = input(\"Введите элемент для удаления: \")\n",
    "        my_list_obj.remove_element(element)\n",
    "    elif choice == 3:\n",
    "        my_list_obj.display_list()\n",
    "    else:\n",
    "        print(\"Неверный выбор. Попробуйте еще раз.\")"
   ]
  },
  {
   "cell_type": "markdown",
   "metadata": {},
   "source": [
    "2. Используя класс People в качестве базового, создайте класс Сотрудник (Worker), имеющий свойства:\n",
    "\n",
    "• должность (post)\n",
    "\n",
    "• зарплата (salary)\n",
    "\n",
    "методы:\n",
    "\n",
    "• __init__ – конструктор;\n",
    "\n",
    "• __str__ – аналогично методу класса Teacher из примера.\n",
    "\n",
    "Используя класс Сотрудник в качестве базового создайте класс Преподаватель (Teacher), имеющий:\n",
    "\n",
    "• закрытый атрибут дисциплины (disciplines), в котором хранятся названия дисциплин, которые ведет преподаватель;\n",
    "\n",
    "• методы __init__ и __str__;\n",
    "\n",
    "• методы добавить_дисциплину (add_dis) и удалить_дисциплину (delete_dis), которые позволяют изменять список дисциплин.\n",
    "\n",
    "Создайте список, содержащий по 2 объекта каждого класса (People, Worker, Teacher). Для этого списка:\n",
    "\n",
    "• выведите информацию о каждом человеке с помощью метода info;\n",
    "\n",
    "• выведите фамилии тех, кто моложе 30 лет;\n",
    "\n",
    "• продемонстрируйте работу со свойствами должность и зарплата и методами добавить_дисциплину и удалить_дисциплину.\n"
   ]
  },
  {
   "cell_type": "code",
   "execution_count": 229,
   "metadata": {},
   "outputs": [
    {
     "name": "stdout",
     "output_type": "stream",
     "text": [
      "Информация о каждом человеке:\n",
      "Фамилия: Иванов, Возраст: 25\n",
      "Фамилия: Петров, Возраст: 35\n",
      "Фамилия: Сидоров, Возраст: 40\n",
      "Фамилия: Кузнецова, Возраст: 28\n",
      "Фамилия: Смирнов, Возраст: 30\n",
      "Фамилия: Козлова, Возраст: 29\n",
      "\n",
      "Фамилии тех, кто моложе 30 лет:\n",
      "Иванов\n",
      "Кузнецова\n",
      "Козлова\n",
      "\n",
      "Демонстрация работы со свойствами и методами:\n",
      "\n",
      "Фамилия: Иванов, Возраст: 35, Должность: Преподаватель, Зарплата: 90000, Дисциплины: Биология\n",
      "После добавления дисциплины:\n",
      " Фамилия: Иванов, Возраст: 35, Должность: Преподаватель, Зарплата: 90000, Дисциплины: Биология, Химия\n",
      "Дисциплина Физика не найдена.\n",
      "После удаления дисциплины:\n",
      " Фамилия: Иванов, Возраст: 35, Должность: Преподаватель, Зарплата: 90000, Дисциплины: Биология, Химия\n"
     ]
    }
   ],
   "source": [
    "class People(object):\n",
    "    def __init__(self, name, age):\n",
    "        self.name = name\n",
    "        self.age = age\n",
    "\n",
    "    def info(self):\n",
    "        return f\"Фамилия: {self.name}, Возраст: {self.age}\"\n",
    "\n",
    "class Worker(People):\n",
    "    def __init__(self, name, age, post, salary):\n",
    "        super().__init__(name, age)\n",
    "        self.post = post\n",
    "        self.salary = salary\n",
    "\n",
    "    def __str__(self):\n",
    "        return f\"{super().info()}, Должность: {self.post}, Зарплата: {self.salary}\"\n",
    "\n",
    "class Teacher(Worker):\n",
    "    def __init__(self, name, age, post, salary, disciplines=None):\n",
    "        super().__init__(name, age, post, salary)\n",
    "        if disciplines is None:\n",
    "            self.disciplines = []\n",
    "        else:\n",
    "            self.disciplines = disciplines\n",
    "\n",
    "    def add_dis(self, discipline):\n",
    "        self.disciplines.append(discipline)\n",
    "\n",
    "    def delete_dis(self, discipline):\n",
    "        if discipline in self.disciplines:\n",
    "            self.disciplines.remove(discipline)\n",
    "            print(f\"Дисциплина {discipline} удалена.\")\n",
    "        else:\n",
    "            print(f\"Дисциплина {discipline} не найдена.\")\n",
    "\n",
    "    def __str__(self):\n",
    "        return f\"{super().__str__()}, Дисциплины: {', '.join(self.disciplines)}\"\n",
    "\n",
    "people_list = [\n",
    "    People(\"Иванов\", 25),\n",
    "    People(\"Петров\", 35),\n",
    "    Worker(\"Сидоров\", 40, \"Инженер\", 50000),\n",
    "    Worker(\"Кузнецова\", 28, \"Бухгалтер\", 60000),\n",
    "    Teacher(\"Смирнов\", 30, \"Преподаватель\", 70000, [\"Математика\", \"Физика\"]),\n",
    "    Teacher(\"Козлова\", 29, \"Преподаватель\", 80000, [\"История\", \"Литература\"])\n",
    "]\n",
    "\n",
    "print(\"Информация о каждом человеке:\")\n",
    "for person in people_list:\n",
    "    print(person.info())\n",
    "\n",
    "print(\"\\nФамилии тех, кто моложе 30 лет:\")\n",
    "for person in people_list:\n",
    "    if person.age < 30:\n",
    "        print(person.name)\n",
    "\n",
    "print(\"\\nДемонстрация работы со свойствами и методами:\\n\")\n",
    "teacher = Teacher(\"Иванов\", 35, \"Преподаватель\", 90000, [\"Биология\"])\n",
    "print(teacher)\n",
    "teacher.add_dis(\"Химия\")\n",
    "print(\"После добавления дисциплины:\\n\", teacher)\n",
    "teacher.delete_dis(\"Физика\")\n",
    "print(\"После удаления дисциплины:\\n\", teacher)"
   ]
  },
  {
   "cell_type": "markdown",
   "metadata": {},
   "source": [
    "3.Создайте класс Заказ(Order), у которого есть свойства кодтовара(code), цена(price), количество(count) и методы _init и str.\n",
    "\n",
    "Создайте 2 класса-потомка: Опт(Opt) и Розница(Retail). В этих классах создайте методы init, str.и сумма_заказа(summa), позволяющий узнать стоимость заказа. Для опта стоимость единицы товара составляет 95% от цены, а при покупке более 500 штук – 90% цены. В розницу стоимость единицы товара составляет 100% цены. Стоимость заказа равна произведению цены на количество.\n",
    "\n",
    "Продемонстрируйте работу с классами, создав необходимые объекты и обратившись к их свойствам и методам"
   ]
  },
  {
   "cell_type": "code",
   "execution_count": 232,
   "metadata": {},
   "outputs": [
    {
     "name": "stdout",
     "output_type": "stream",
     "text": [
      "Опт: Код товара: 001, Цена: 100, Количество: 600\n",
      "Розница: Код товара: 002, Цена: 100, Количество: 600\n",
      "Стоимость заказа в опте: 54000.0\n",
      "Стоимость заказа в рознице: 60000\n"
     ]
    }
   ],
   "source": [
    "class Order(object):\n",
    "    def __init__(self, code, price, count):\n",
    "        self.code = code\n",
    "        self.price = price\n",
    "        self.count = count\n",
    "\n",
    "    def __str__(self):\n",
    "        return f\"Код товара: {self.code}, Цена: {self.price}, Количество: {self.count}\"\n",
    "\n",
    "class Opt(Order):\n",
    "    def __init__(self, code, price, count):\n",
    "        super().__init__(code, price, count)\n",
    "\n",
    "    def summa(self):\n",
    "        if self.count > 500:\n",
    "            return self.price * self.count * 0.9\n",
    "        else:\n",
    "            return self.price * self.count * 0.95\n",
    "\n",
    "    def __str__(self):\n",
    "        return f\"Опт: {super().__str__()}\"\n",
    "\n",
    "class Retail(Order):\n",
    "    def __init__(self, code, price, count):\n",
    "        super().__init__(code, price, count)\n",
    "\n",
    "    def summa(self):\n",
    "        return self.price * self.count\n",
    "\n",
    "    def __str__(self):\n",
    "        return f\"Розница: {super().__str__()}\"\n",
    "\n",
    "order1 = Opt(\"001\", 100, 600)\n",
    "order2 = Retail(\"002\", 100, 600)\n",
    "\n",
    "print(order1)\n",
    "print(order2)\n",
    "\n",
    "print(\"Стоимость заказа в опте:\", order1.summa())\n",
    "print(\"Стоимость заказа в рознице:\", order2.summa())"
   ]
  },
  {
   "cell_type": "markdown",
   "metadata": {},
   "source": [
    "4.Написать функцию-генератор my_func_2(lst), которая принимает объект, поддерживающий итерации с произвольным уровнем вложенности, и возвращает все элементы по одному."
   ]
  },
  {
   "cell_type": "code",
   "execution_count": 10,
   "metadata": {},
   "outputs": [
    {
     "name": "stdout",
     "output_type": "stream",
     "text": [
      "1\n",
      "2\n",
      "3\n",
      "4\n",
      "5\n",
      "6\n",
      "7\n",
      "8\n",
      "9\n",
      "10\n"
     ]
    }
   ],
   "source": [
    "def my_func_2(lst):\n",
    "    if isinstance(lst, (list, tuple, set)):\n",
    "        for item in lst:\n",
    "            yield from my_func_2(item)\n",
    "    else:\n",
    "        yield lst\n",
    "\n",
    "nested_list = [1, [2, 3], [4, [5, 6, [7, 8]], 9], 10]\n",
    "\n",
    "for item in my_func_2(nested_list):\n",
    "    print(item)"
   ]
  },
  {
   "cell_type": "markdown",
   "metadata": {},
   "source": [
    "5.С помощью механизма map/filter/reduce (хотя бы одна из этих функций должна быть использована в решении) посчитать в тексте количество слов, состоящих не менее, чем из 3-х букв. Слова в тексте разделены пробелами. Написать реализацию в одну строку. Оформить решение в виде функции my_func_3(text), т.е. шаблон таков:\n",
    "\n",
    "строка с import, если необходимо def my_func_3(text): return # однострочная реализация задания"
   ]
  },
  {
   "cell_type": "code",
   "execution_count": 8,
   "metadata": {},
   "outputs": [
    {
     "name": "stdout",
     "output_type": "stream",
     "text": [
      "dv dv dv dv: 0\n",
      "o o dva dva: 2\n",
      "1a1a a1: 1\n"
     ]
    }
   ],
   "source": [
    "from functools import reduce\n",
    "\n",
    "def my_func_3(text):\n",
    "    return reduce(lambda x, y: x + y, map(lambda x: 1 if len(x) >= 3 else 0, filter(lambda x: x != \"\", text.split())))\n",
    "\n",
    "sss = 'dv dv dv dv'\n",
    "print(f'dv dv dv dv: {my_func_3(\"dv dv dv dv\")}')\n",
    "print(f'o o dva dva: {my_func_3(\"o o dva dva\")}')\n",
    "print(f'1a1a a1: {my_func_3(\"1a1a a1\")}')"
   ]
  }
 ],
 "metadata": {
  "kernelspec": {
   "display_name": "Python 3 (ipykernel)",
   "language": "python",
   "name": "python3"
  },
  "language_info": {
   "codemirror_mode": {
    "name": "ipython",
    "version": 3
   },
   "file_extension": ".py",
   "mimetype": "text/x-python",
   "name": "python",
   "nbconvert_exporter": "python",
   "pygments_lexer": "ipython3",
   "version": "3.11.5"
  }
 },
 "nbformat": 4,
 "nbformat_minor": 4
}
