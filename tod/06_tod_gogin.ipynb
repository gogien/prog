{
 "cells": [
  {
   "cell_type": "markdown",
   "metadata": {},
   "source": [
    "# Работа со строковыми значениями"
   ]
  },
  {
   "cell_type": "markdown",
   "metadata": {},
   "source": [
    "__Автор задач: Блохин Н.В. (NVBlokhin@fa.ru)__\n",
    "\n",
    "Материалы:\n",
    "* Макрушин С.В. Лекция \"Работа со строковыми значениям\"\n",
    "* https://pyformat.info/\n",
    "* https://docs.python.org/3/library/re.html\n",
    "    * https://docs.python.org/3/library/re.html#flags\n",
    "    * https://docs.python.org/3/library/re.html#functions\n",
    "* https://pythonru.com/primery/primery-primeneniya-regulyarnyh-vyrazheniy-v-python\n",
    "* https://kanoki.org/2019/11/12/how-to-use-regex-in-pandas/\n",
    "* https://realpython.com/nltk-nlp-python/"
   ]
  },
  {
   "cell_type": "markdown",
   "metadata": {},
   "source": [
    "## Задачи для совместного разбора"
   ]
  },
  {
   "cell_type": "markdown",
   "metadata": {},
   "source": [
    "1. Вывести на экран данные из словаря `obj` построчно в виде `k = v`, задав формат таким образом, чтобы знак равенства оказался на одной и той же позиции во всех строках. Строковые литералы обернуть в кавычки."
   ]
  },
  {
   "cell_type": "code",
   "execution_count": 2,
   "metadata": {},
   "outputs": [
    {
     "name": "stdout",
     "output_type": "stream",
     "text": [
      "home_page = \"https://github.com/pypa/sampleproject\"\n",
      "keywords  = \"sample setuptools development\"\n",
      "license   = \"MIT\"\n"
     ]
    }
   ],
   "source": [
    "# obj - это словарь, содержащий ключи и их соответствующие значения\n",
    "obj = {\n",
    "    \"home_page\": \"https://github.com/pypa/sampleproject\",\n",
    "    \"keywords\": \"sample setuptools development\",\n",
    "    \"license\": \"MIT\",\n",
    "}\n",
    "\n",
    "# Определим максимальную длину ключа для выравнивания\n",
    "# Здесь мы находим максимальную длину среди всех ключей в словаре, чтобы потом выровнять значения в выводе\n",
    "max_key_length = max(len(key) for key in obj.keys())\n",
    "\n",
    "# Формируем строки с выравниванием и кавычками для строковых значений\n",
    "# Проходимся по всем парам ключ-значение в словаре\n",
    "for key, value in obj.items():\n",
    "    # Если значение является строкой, оборачиваем его в двойные кавычки\n",
    "    if isinstance(value, str):\n",
    "        value = f'\"{value}\"'\n",
    "    # Печатаем ключ и значение с выравниванием по максимальной длине ключа, используя форматирование строк\n",
    "    print(f\"{key:<{max_key_length}} = {value}\")"
   ]
  },
  {
   "cell_type": "markdown",
   "metadata": {},
   "source": [
    "2. Написать регулярное выражение,которое позволит найти номера групп студентов."
   ]
  },
  {
   "cell_type": "code",
   "execution_count": 21,
   "metadata": {},
   "outputs": [
    {
     "name": "stdout",
     "output_type": "stream",
     "text": [
      "0     [ПМ19-1]\n",
      "1    [пм 20-4]\n",
      "2       [20-3]\n",
      "dtype: object\n"
     ]
    }
   ],
   "source": [
    "import pandas as pd\n",
    "\n",
    "obj = pd.Series([\"Евгения гр.ПМ19-1\", \"Илья пм 20-4\", \"Анна 20-3\"])\n",
    "\n",
    "pattern = r'\\b(?:[А-Яа-я]{2,3}\\s?)?\\d{2}-\\d\\b'\n",
    "# '''/\"\"\" - Для слабых. Молчи, Глеб\n",
    "# \\b - это якорь (ну или флаг), обозначающий границу слова.\n",
    "# (?:...)? - знак вопроса в конце показывает, что эти символы необязательны, но являются частью названия \n",
    "# группы (20-3 не имеет тут букв, например)\n",
    "# [А-Яа-яA-Za-z]{2,3} - это символьный класс, в который входят любые буквы: русские (от \"А\" до \"я\"). \n",
    "# {2,3} говорит о том, что перед цифрами должно быть от 2 до 3 букв\n",
    "# \\s+ - ищет строку  с последующим одним пробелом или его отсутствием. \"ПМ \" или \"ПМ\". \n",
    "# \\d{2} - Это последовательность двух цифр.\n",
    "# \"-\" - это дефис в группе\n",
    "# \\d - одна цифра (от англ.  digit)\n",
    "# \\b - якорь конца слова\n",
    "    \n",
    "groups = obj.str.findall(pattern)\n",
    "\n",
    "print(groups)\n",
    "UPDATE Read the migration plan to Notebook 7 to learn about the new features and the actions to take if you are using extensions - Please note that updating to Notebook 7 might break some of your extensions.\n",
    "Jupyter Notebook\n",
    "06_string_Вера_Серебренникова\n",
    "(autosaved)\n",
    "Current Kernel Logo\n",
    "Python 3 (ipykernel) \n",
    "File\n",
    "Edit\n",
    "View\n",
    "Insert\n",
    "Cell\n",
    "Kernel\n",
    "Widgets\n",
    "Help\n",
    "\n",
    "Markdown\n",
    "Работа со строковыми значениями\n",
    "Автор задач: Блохин Н.В. (NVBlokhin@fa.ru)\n",
    "\n",
    "Материалы:\n",
    "\n",
    "Макрушин С.В. Лекция \"Работа со строковыми значениям\"\n",
    "https://pyformat.info/\n",
    "https://docs.python.org/3/library/re.html\n",
    "https://docs.python.org/3/library/re.html#flags\n",
    "https://docs.python.org/3/library/re.html#functions\n",
    "https://pythonru.com/primery/primery-primeneniya-regulyarnyh-vyrazheniy-v-python\n",
    "https://kanoki.org/2019/11/12/how-to-use-regex-in-pandas/\n",
    "https://realpython.com/nltk-nlp-python/\n",
    "Задачи для совместного разбора"
   ]
  },
  {
   "cell_type": "markdown",
   "metadata": {},
   "source": [
    "3. Разбейте текст формулировки задачи 2 на слова."
   ]
  },
  {
   "cell_type": "code",
   "execution_count": 8,
   "metadata": {},
   "outputs": [
    {
     "name": "stdout",
     "output_type": "stream",
     "text": [
      "['Написать', 'регулярное', 'выражение,', 'которое', 'позволит', 'найти', 'номера', 'групп', 'студентов.']\n"
     ]
    }
   ],
   "source": [
    "text = \"Написать регулярное выражение, которое позволит найти номера групп студентов.\"\n",
    "\n",
    "# Разбиваем текст на слова\n",
    "words = text.split()\n",
    "\n",
    "# Выводим результат\n",
    "print(words)"
   ]
  },
  {
   "cell_type": "markdown",
   "metadata": {},
   "source": [
    "## Лабораторная работа 6"
   ]
  },
  {
   "cell_type": "markdown",
   "metadata": {},
   "source": [
    "### Форматирование строк"
   ]
  },
  {
   "cell_type": "markdown",
   "metadata": {},
   "source": [
    "1\\. Загрузите данные из файла `recipes_sample.csv` (__ЛР2__) в виде `pd.DataFrame` `recipes` При помощи форматирования строк выведите информацию об id рецепта и времени выполнения 5 случайных рецептов в виде таблицы следующего вида:\n",
    "\n",
    "    \n",
    "    |      id      |  minutes  |\n",
    "    |--------------------------|\n",
    "    |    61178     |    65     |\n",
    "    |    202352    |    80     |\n",
    "    |    364322    |    150    |\n",
    "    |    26177     |    20     |\n",
    "    |    224785    |    35     |\n",
    "    \n",
    "Обратите внимание, что ширина столбцов заранее неизвестна и должна рассчитываться динамически, в зависимости от тех данных, которые были выбраны. "
   ]
  },
  {
   "cell_type": "code",
   "execution_count": 5,
   "metadata": {},
   "outputs": [
    {
     "name": "stdout",
     "output_type": "stream",
     "text": [
      "|--------|---------|\n",
      "| id     | minutes |\n",
      "|--------|---------|\n",
      "| 195504 |   15    |\n",
      "| 351013 |   35    |\n",
      "| 467876 |   25    |\n",
      "| 151675 |   10    |\n",
      "| 229789 |    5    |\n"
     ]
    }
   ],
   "source": [
    "import pandas as pd\n",
    "\n",
    "# Шаг 1: Загрузите данные из файла\n",
    "recipes = pd.read_csv('recipes_sample.csv')\n",
    "\n",
    "# Шаг 2: Выберите 5 случайных рецептов\n",
    "random_recipes = recipes.sample(n=5)\n",
    "\n",
    "# Шаг 3: Определите максимальную ширину столбцов\n",
    "# Максимальная длина значений в столбце 'id' и название столбца 'id'\n",
    "max_id_width = max(random_recipes['id'].astype(str).apply(len).max(), len('id'))\n",
    "# Максимальная длина значений в столбце 'minutes' и название столбца 'minutes'\n",
    "max_minutes_width = max(random_recipes['minutes'].astype(str).apply(len).max(), len('minutes'))\n",
    "\n",
    "# Шаг 4: Форматирование и вывод таблицы\n",
    "# Формируем заголовок таблицы с выравниванием по ширине столбцов\n",
    "table_header = f\"| {'id':<{max_id_width}} | {'minutes':^{max_minutes_width}} |\"\n",
    "# Формируем разделитель строки таблицы\n",
    "separator = f\"|{'-' * (max_id_width + 2)}|{'-' * (max_minutes_width + 2)}|\"\n",
    "\n",
    "# Печатаем разделитель, заголовок и ещё один разделитель\n",
    "print(separator)\n",
    "print(table_header)\n",
    "print(separator)\n",
    "\n",
    "# Проходимся по случайно выбранным рецептам и печатаем каждую строку таблицы\n",
    "for _, row in random_recipes.iterrows():\n",
    "    print(f\"| {row['id']:<{max_id_width}} | {str(row['minutes']):^{max_minutes_width}} |\")"
   ]
  },
  {
   "cell_type": "markdown",
   "metadata": {},
   "source": [
    "2\\. Напишите функцию `show_info`, которая по данным о рецепте создает строку (в смысле объекта python) с описанием следующего вида:\n",
    "\n",
    "```\n",
    "\"Название Из Нескольких Слов\"\n",
    "\n",
    "1. Шаг 1\n",
    "2. Шаг 2\n",
    "----------\n",
    "Автор: contributor_id\n",
    "Среднее время приготовления: minutes минут\n",
    "```\n",
    "\n",
    "    \n",
    "Данные для создания строки получите из файлов `recipes_sample.csv` (__ЛР2__) и `steps_sample.xml` (__ЛР3__). \n",
    "Вызовите данную функцию для рецепта с id `170895` и выведите (через `print`) полученную строку на экран."
   ]
  },
  {
   "cell_type": "code",
   "execution_count": 6,
   "metadata": {},
   "outputs": [
    {
     "name": "stdout",
     "output_type": "stream",
     "text": [
      "\"Leeks And Parsnips  Sauteed Or Creamed\"\n",
      "\n",
      "1. clean the leeks and discard the dark green portions\n",
      "2. cut the leeks lengthwise then into one-inch pieces\n",
      "3. melt the butter in a medium skillet , med\n",
      "4. heat\n",
      "5. add the garlic and fry 'til fragrant\n",
      "6. add leeks and fry until the leeks are tender , about 6-minutes\n",
      "7. meanwhile , peel and chunk the parsnips into one-inch pieces\n",
      "8. place in a steaming basket and steam 'til they are as tender as you prefer\n",
      "9. i like them fork-tender\n",
      "10. drain parsnips and add to the skillet with the leeks\n",
      "11. add salt and pepper\n",
      "12. gently sautee together for 5-minutes\n",
      "13. at this point you can serve it , or continue on and cream it:\n",
      "14. in a jar with a screw top , add the half-n-half and arrowroot\n",
      "15. shake 'til blended\n",
      "16. turn heat to low under the leeks and parsnips\n",
      "17. pour in the arrowroot mixture , stirring gently as you pour\n",
      "18. if too thick , gradually add the water\n",
      "19. let simmer for a couple of minutes\n",
      "20. taste to adjust seasoning , probably an additional 1 / 2 teaspoon salt\n",
      "21. serve warm\n",
      "----------\n",
      "Автор: 8377\n",
      "Среднее время приготовления: 27 минут\n",
      "\n"
     ]
    }
   ],
   "source": [
    "import pandas as pd\n",
    "import xml.etree.ElementTree as ET\n",
    "\n",
    "# Шаг 1: Загрузите данные из файла CSV\n",
    "# Загружаем данные рецептов из CSV файла в DataFrame\n",
    "recipes = pd.read_csv('recipes_sample.csv')\n",
    "\n",
    "# Шаг 2: Загрузите данные из файла XML\n",
    "# Загружаем данные шагов рецептов из XML файла\n",
    "tree = ET.parse('steps_sample.xml')\n",
    "root = tree.getroot()\n",
    "\n",
    "# Шаг 3: Функция для получения шагов рецепта по его id\n",
    "# Определяем функцию, которая принимает id рецепта и возвращает список шагов приготовления\n",
    "def get_steps(recipe_id):\n",
    "    # Проходим по всем рецептам в XML\n",
    "    for recipe in root.findall('recipe'):\n",
    "        # Если найден рецепт с нужным id\n",
    "        if recipe.find('id').text == str(recipe_id):\n",
    "            # Извлекаем все шаги и возвращаем их как список\n",
    "            steps = [step.text for step in recipe.find('steps').findall('step')]\n",
    "            return steps\n",
    "    # Если рецепт не найден, возвращаем пустой список\n",
    "    return []\n",
    "\n",
    "# Шаг 4: Создание функции show_info\n",
    "# Определяем функцию для форматирования и вывода информации о рецепте\n",
    "def show_info(name, steps, minutes, author_id):\n",
    "    # Преобразуем название рецепта в заглавные буквы\n",
    "    title = name.title()\n",
    "    # Форматируем шаги приготовления\n",
    "    steps_str = '\\n'.join([f\"{i+1}. {step}\" for i, step in enumerate(steps)])\n",
    "    # Формируем итоговую строку с информацией о рецепте\n",
    "    result = (\n",
    "        f'\"{title}\"\\n\\n'                     # Заголовок с названием рецепта\n",
    "        f\"{steps_str}\\n\"                    # Список шагов приготовления\n",
    "        \"----------\\n\"                      # Разделитель\n",
    "        f\"Автор: {author_id}\\n\"             # Информация об авторе рецепта\n",
    "        f\"Среднее время приготовления: {minutes} минут\\n\"  # Информация о времени приготовления\n",
    "    )\n",
    "    return result\n",
    "\n",
    "# Шаг 5: Получите данные для рецепта с id 170895\n",
    "# Задаем id рецепта, который будем искать\n",
    "recipe_id = 170895\n",
    "# Находим данные о рецепте в DataFrame по id\n",
    "recipe_data = recipes[recipes['id'] == recipe_id].iloc[0]\n",
    "# Извлекаем название рецепта\n",
    "name = recipe_data['name']\n",
    "# Извлекаем среднее время приготовления\n",
    "minutes = recipe_data['minutes']\n",
    "# Извлекаем id автора рецепта\n",
    "author_id = recipe_data['contributor_id']\n",
    "# Получаем список шагов приготовления для данного рецепта\n",
    "steps = get_steps(recipe_id)\n",
    "\n",
    "# Вызов функции и вывод результата\n",
    "# Форматируем и выводим информацию о рецепте\n",
    "result = show_info(name, steps, minutes, author_id)\n",
    "print(result)"
   ]
  },
  {
   "cell_type": "markdown",
   "metadata": {},
   "source": [
    "## Работа с регулярными выражениями"
   ]
  },
  {
   "cell_type": "markdown",
   "metadata": {},
   "source": [
    "3\\. Напишите регулярное выражение, которое ищет следующий паттерн в строке: число (1 цифра или более), затем пробел, затем слова: hour или hours или minute или minutes. Произведите поиск по данному регулярному выражению в каждом шаге рецепта с id 25082. Выведите на экран все непустые результаты, найденные по данному шаблону."
   ]
  },
  {
   "cell_type": "code",
   "execution_count": 7,
   "metadata": {},
   "outputs": [
    {
     "name": "stdout",
     "output_type": "stream",
     "text": [
      "['20 minute']\n",
      "['10 minute']\n",
      "['2 hour']\n",
      "['10 minute']\n",
      "['20 minute', '30 minute']\n"
     ]
    }
   ],
   "source": [
    "import re\n",
    "\n",
    "# Функция для извлечения шагов рецепта по его id\n",
    "# Эта функция принимает id рецепта и возвращает список шагов приготовления\n",
    "def get_steps(recipe_id):\n",
    "    for recipe in root.findall('recipe'):\n",
    "        if recipe.find('id').text == str(recipe_id):\n",
    "            steps = [step.text for step in recipe.find('steps').findall('step')]\n",
    "            return steps\n",
    "    return []\n",
    "\n",
    "# Получение шагов рецепта с id 25082\n",
    "# Задаем id рецепта, который будем искать\n",
    "recipe_id = 25082\n",
    "# Получаем список шагов приготовления для данного рецепта\n",
    "steps = get_steps(recipe_id)\n",
    "\n",
    "# Регулярное выражение для поиска числа, за которым следует пробел и одно из указанных слов\n",
    "# Этот шаблон находит числа, за которыми идут слова \"hour\", \"hours\", \"minute\", \"minutes\"\n",
    "pattern = r'\\d+\\s+(?:hour|hours|minute|minutes)'\n",
    "\n",
    "# Поиск и вывод результатов по шаблону в каждом шаге рецепта\n",
    "# Проходим по каждому шагу из списка шагов\n",
    "for step in steps:\n",
    "    # Ищем все совпадения с регулярным выражением в текущем шаге\n",
    "    matches = re.findall(pattern, step)\n",
    "    # Если есть совпадения, выводим их\n",
    "    if matches:\n",
    "        print(matches)"
   ]
  },
  {
   "cell_type": "markdown",
   "metadata": {},
   "source": [
    "4\\. Напишите регулярное выражение, которое ищет шаблон вида \"this..., but\" _в начале строки_ . Между словом \"this\" и частью \", but\" может находиться произвольное число букв, цифр, знаков подчеркивания и пробелов. Никаких других символов вместо многоточия быть не может. Пробел между запятой и словом \"but\" может присутствовать или отсутствовать.\n",
    "\n",
    "Используя строковые методы `pd.Series`, выясните, для каких рецептов данный шаблон содержится в тексте описания. Выведите на экран количество таких рецептов и 3 примера подходящих описаний (текст описания должен быть виден на экране полностью)."
   ]
  },
  {
   "cell_type": "code",
   "execution_count": 8,
   "metadata": {},
   "outputs": [
    {
     "name": "stdout",
     "output_type": "stream",
     "text": [
      "Количество рецептов с данным шаблоном: 131\n",
      "\n",
      "Примеры подходящих описаний:\n",
      "this was adapted from a recipe i found on the net, but i added julienne onion to the peppers.  this is a meal in itself, or you could have a small slice with a meat dish.  for those that like to have brunch, it's a bit different to your traditional quiche recipes.  if you love cheese, you could add 1/2 cup of your favorite to the egg mixture, then pour over peppers.\n",
      "this is kind of similar to some of the other versions out there, but it is the best and easiest i have found\n",
      "this is a moist, buttery apple cake.  the dough is best made the night before, put in the fridge and then filled and baked the next morning.\n"
     ]
    }
   ],
   "source": [
    "import pandas as pd\n",
    "\n",
    "# Загрузите данные из файла CSV\n",
    "# Читаем данные из файла CSV в DataFrame\n",
    "recipes = pd.read_csv('recipes_sample.csv')\n",
    "\n",
    "# Заменить пропущенные значения пустой строкой\n",
    "# Заполняем пропущенные значения в столбце 'description' пустыми строками\n",
    "recipes['description'] = recipes['description'].fillna('')\n",
    "\n",
    "# Поиск совпадений в тексте описания для каждого рецепта\n",
    "# Ищем совпадения с шаблоном в описании каждого рецепта\n",
    "# Шаблон ищет строки, начинающиеся с \"this\", за которыми следуют любые слова и пробелы, а затем \"but\"\n",
    "matches = recipes['description'].str.contains(r'^this[\\w\\s]*, but', regex=True, case=False)\n",
    "\n",
    "# Подсчет количества рецептов, содержащих данный шаблон\n",
    "# Считаем количество строк, содержащих совпадения с шаблоном\n",
    "count = matches.sum()\n",
    "print(\"Количество рецептов с данным шаблоном:\", count)\n",
    "\n",
    "# Вывод трех примеров подходящих описаний\n",
    "# Выводим три первых описания, которые соответствуют шаблону\n",
    "print(\"\\nПримеры подходящих описаний:\")\n",
    "for description in recipes[matches]['description'].head(3):\n",
    "    print(description)"
   ]
  },
  {
   "cell_type": "markdown",
   "metadata": {},
   "source": [
    "5\\. В текстах шагов рецептов обыкновенные дроби имеют вид \"a / b\". Используя регулярные выражения, уберите в тексте шагов рецепта с id 72367 пробелы до и после символа дроби. Выведите на экран шаги этого рецепта после их изменения."
   ]
  },
  {
   "cell_type": "code",
   "execution_count": 9,
   "metadata": {},
   "outputs": [
    {
     "name": "stdout",
     "output_type": "stream",
     "text": [
      "Исходные шаги:\n",
      "mix butter , flour , 1 / 3 c\n",
      "sugar and 1-1 / 4 t\n",
      "vanilla\n",
      "press into greased 9\" springform pan\n",
      "mix cream cheese , 1 / 4 c\n",
      "sugar , eggs and 1 / 2 t\n",
      "vanilla beating until fluffy\n",
      "pour over dough\n",
      "combine apples , 1 / 3 c\n",
      "sugar and cinnamon\n",
      "arrange on top of cream cheese mixture and sprinkle with almonds\n",
      "bake at 350 for 45-55 minutes , or until tester comes out clean\n",
      "\n",
      "Шаги после удаления пробелов перед и после символов дроби:\n",
      "mix butter , flour , 1/3 c\n",
      "sugar and 1-1/4 t\n",
      "vanilla\n",
      "press into greased 9\" springform pan\n",
      "mix cream cheese , 1/4 c\n",
      "sugar , eggs and 1/2 t\n",
      "vanilla beating until fluffy\n",
      "pour over dough\n",
      "combine apples , 1/3 c\n",
      "sugar and cinnamon\n",
      "arrange on top of cream cheese mixture and sprinkle with almonds\n",
      "bake at 350 for 45-55 minutes , or until tester comes out clean\n"
     ]
    }
   ],
   "source": [
    "import re\n",
    "import xml.etree.ElementTree as ET\n",
    "\n",
    "# Функция для удаления пробелов перед и после символов дроби в тексте шага\n",
    "def remove_fraction_spaces(step_text):\n",
    "    # Регулярное выражение для поиска пробелов перед и после символов дроби\n",
    "    pattern = r'\\s*\\/\\s*'\n",
    "    # Замена пробелов перед и после символов дроби на пустую строку\n",
    "    step_text = re.sub(pattern, '/', step_text)\n",
    "    return step_text\n",
    "\n",
    "# Загрузка данных о шагах приготовления из файла steps_sample.xml\n",
    "tree = ET.parse('steps_sample.xml')\n",
    "root = tree.getroot()\n",
    "\n",
    "# Находим шаги для рецепта с id 72367\n",
    "recipe_id = '72367'\n",
    "# Используем XPath для поиска нужного рецепта и его шагов\n",
    "steps = root.find(\"./recipe[id='{}']/steps\".format(recipe_id))\n",
    "\n",
    "# Вывод исходных шагов\n",
    "print(\"Исходные шаги:\")\n",
    "for step in steps.findall('step'):\n",
    "    print(step.text)\n",
    "\n",
    "# Удаление пробелов перед и после символов дроби в текстах шагов\n",
    "for step in steps.findall('step'):\n",
    "    step.text = remove_fraction_spaces(step.text)\n",
    "\n",
    "# Вывод измененных шагов\n",
    "print(\"\\nШаги после удаления пробелов перед и после символов дроби:\")\n",
    "for step in steps.findall('step'):\n",
    "    print(step.text)"
   ]
  },
  {
   "cell_type": "markdown",
   "metadata": {},
   "source": [
    "### Сегментация текста"
   ]
  },
  {
   "cell_type": "markdown",
   "metadata": {},
   "source": [
    "6\\. Разбейте тексты шагов рецептов на слова при помощи пакета `nltk`. Посчитайте и выведите на экран кол-во уникальных слов среди всех рецептов. Словом называется любая последовательность алфавитных символов (для проверки можно воспользоваться `str.isalpha`). При подсчете количества уникальных слов не учитывайте регистр."
   ]
  },
  {
   "cell_type": "code",
   "execution_count": 71,
   "metadata": {},
   "outputs": [
    {
     "name": "stderr",
     "output_type": "stream",
     "text": [
      "[nltk_data] Downloading package punkt to\n",
      "[nltk_data]     C:\\Users\\shubs\\AppData\\Roaming\\nltk_data...\n",
      "[nltk_data]   Package punkt is already up-to-date!\n",
      "[nltk_data] Downloading package averaged_perceptron_tagger to\n",
      "[nltk_data]     C:\\Users\\shubs\\AppData\\Roaming\\nltk_data...\n",
      "[nltk_data]   Package averaged_perceptron_tagger is already up-to-\n",
      "[nltk_data]       date!\n"
     ]
    },
    {
     "data": {
      "text/plain": [
       "True"
      ]
     },
     "execution_count": 71,
     "metadata": {},
     "output_type": "execute_result"
    }
   ],
   "source": [
    "import nltk\n",
    "nltk.download('punkt')\n",
    "nltk.download('averaged_perceptron_tagger')"
   ]
  },
  {
   "cell_type": "code",
   "execution_count": null,
   "metadata": {},
   "outputs": [],
   "source": [
    "import nltk\n",
    "from nltk.tokenize import word_tokenize\n",
    "import xml.etree.ElementTree as ET\n",
    "\n",
    "# Загрузка данных о шагах приготовления из файла steps_sample.xml\n",
    "# Загружаем XML-файл и получаем корневой элемент\n",
    "tree = ET.parse('steps_sample.xml')\n",
    "root = tree.getroot()\n",
    "\n",
    "# Получение всех текстов шагов рецептов\n",
    "# Извлекаем текст всех шагов и преобразуем его в нижний регистр для унификации\n",
    "all_steps_text = [step.text.lower() for step in root.findall(\".//step\")]\n",
    "\n",
    "# Разбиение текстов на слова и фильтрация алфавитных символов\n",
    "# Разбиваем каждый текст шага на отдельные слова, фильтруя только алфавитные слова\n",
    "words = [word for step_text in all_steps_text for word in word_tokenize(step_text) if word.isalpha()]\n",
    "\n",
    "# Подсчет количества уникальных слов (без учета регистра)\n",
    "# Преобразуем список слов в множество для получения уникальных слов\n",
    "unique_words = set(words)\n",
    "\n",
    "# Вывод количества уникальных слов\n",
    "print(\"Количество уникальных слов среди всех рецептов:\", len(unique_words))"
   ]
  },
  {
   "cell_type": "markdown",
   "metadata": {},
   "source": [
    "7\\. Разбейте описания рецептов из `recipes` на предложения при помощи пакета `nltk`. Найдите 5 самых длинных описаний (по количеству _предложений_) рецептов в датасете и выведите строки фрейма, соответствующие этим рецептами, в порядке убывания длины."
   ]
  },
  {
   "cell_type": "code",
   "execution_count": 68,
   "metadata": {},
   "outputs": [
    {
     "name": "stdout",
     "output_type": "stream",
     "text": [
      "5 самых длинных описаний рецептов в порядке убывания длины:\n",
      "Рецепт ID: 334113\n",
      "Описание рецепта (76 предложений):\n",
      "this wonderful icing is used for icing cakes and cookies as well as for borders and art work on cakes.  it makes a delicious filling also between the layers of cakes and under fondant icing.  you can make roses but it takes 3 or more days to dry them depending on the humidity. \n",
      "\n",
      "there are many versions of “buttercream” icing. some are made with eggs and all butter.  some varieties, you have to cook your sugar to a softball stage.  others are 100% shortening or a combination of shortening and butter.\n",
      "\n",
      "each decorator has his or her favorite.  i personally think that the best taste and textured recipe is the one that has you cook your sugar, add to whipped eggs and use pounds of butter per batch. but…. i live in a state that can easily be a 100 degrees for days on end during the summer and you know what butter does on hot days.  it melts!  a greasy puddle of melted icing on a cake plate is not something i want to look at or eat.  \n",
      "\n",
      "your top notch decorators have a few options we don’t.  they have huge refrigerators to store their cakes in, and refrigerated vehicles that they can use to deliver decorated cakes. i even know a few that refuse to deliver at all. if you want their cake, you come and get it and it’s your responsibility if it melts.  these decorators don’t even turn on their ovens for a wedding cake for less than $2000.  \n",
      "\n",
      "the following recipes for buttercream icing hold up pretty well in the heat and humidity, but if you know that your cake will be out in very high temperatures, then don’t use any butter and use only a high quality shortening.  \n",
      "\n",
      "shortening:  \n",
      "\n",
      "solid shortenings definitely have their place in baking. so i’m going to talk taste tests. crisco is the hands down winner. it has a clean taste with the melting point of 106 degrees. butter melts somewhere between 88 and 98 degrees f. depending on the amount of fat in the brand.  you can see that if you need to serve a pure buttercream decorated cake, on a hot august afternoon, you could have melted roses (and i do mean greasy puddles) on the tablecloth. this is when a good quality shortening will be a great blessing. i have been told by decorator friends that some of the warehouse brand shortenings leave a grainy consistency to the icing no matter what you do.  \n",
      "\n",
      "powdered (confectioner's) sugar:  \n",
      "\n",
      "regarding powdered sugar. please use a cane sugar. i prefer c&h powdered (confectioners) sugar.  many of the cheaper brands use sugar beets for their base.  i don’t know the chemistry behind it but you definitely get different textures to your icing that can vary from batch to batch.  i spent a few months being very frustrated with the quality of my icing until a kind lady did a bit of trouble shooting for me. she recommended the cane sugar and i’ve been blessing her ever since.\n",
      "\n",
      "top-quality brands:  \n",
      "\n",
      "please be safe, buy a quality brands and then stick with it for the best results. a friend of mine, who is a wonderful cook and baker, travels a lot and she often prepares treats for her hosts. she’s learned to ask the host to have her favorite shortening and flour on hand. she has even made up a little makeup type case that carries her favorite extracts and precious spices. that way she knows what she is working with, how it handles, and what tastes she can expect for the finished product. some surprises are not pleasant. \n",
      "\n",
      "storing buttercream icing: \n",
      "\n",
      "if you are not going to be using the icing right away, place it in a clean, sealable bowl. store it in the refrigerator but please don’t place it next to the marinating salmon, garlic or broccoli.  you do not want those flavors in your icing!  i like to use my icing within a few days but it will hold in the cold refrigerator for a couple of weeks if necessary.  \n",
      "\n",
      "i often make a double batch of icing the night before i have a baking project.  that way i know that i have plenty of icing, it’s fresh and i don’t have to make it while i’m in the middle of baking the cakes.  the extra can always be used for a batch of cupcakes.\n",
      "\n",
      "when you remove the icing from the refrigerator, you might notice that the icing has taken on a sponge like texture. do yourself a favor and place the icing in a bowl and mix by hand using a back and forth, smashing motion with a spoon or icing spatula. what you want to do is to smash the bubbles out of the icing. this extra step will help to give you the smoothest icing for a pretty top and sides of the cake. i have found that you will get an even better texture of icing if it is at room temperature before you try to do your icing.\n",
      "\n",
      "bad buttercream icing days:  \n",
      "\n",
      "one thing that seems very silly but is true. there are bad buttercream days! i’ve asked quite a few decorators about this and every one says “yes, there are lousy days”. i’m not sure what causes the problem. \n",
      "\n",
      "it could be that every human has bad days so they blame the buttercream. \n",
      "\n",
      "it may be the humidity or that there is a low pressure system hanging over your town. \n",
      "\n",
      "i just know why but it is a perceived fact. the way i have handled the problem is that i changed the decoration on the cake.  i couldn’t get the smooth top or sides as i originally planned. writing a greeting on a messy top would look awful so i changed the design idea and put flowers everywhere. i could have also done a basket weave technique around the sides. just go with the flow, and don’t get frustrated. aunt martha won’t chuck the cake at you if you don’t write her name on the top this time. remember that you are creating something that is to be eaten so have fun with it.  \n",
      "\n",
      "different mixers:\n",
      "\n",
      "if you have a heavy duty counter mixer, you can prepare a whole batch at one time.  if you are using a hand mixer, divide the recipe in half.  if you notice the mixer getting hot, please stop and let the machine cool off.\n",
      "\n",
      "i also prefer to mix the buttercream on a low setting. it seems that the higher setting do the job faster but you also will get a spongy texture to the icing. i don’t want that quality in my final ice coating or flowers on the cake. \n",
      "\n",
      "using weight scales:\n",
      "\n",
      "1 cup of crisco weighs 6 ounces.  \n",
      "\n",
      "i put a piece of wax paper on my scale and start plopping spoons of shortening on until i get the desired weight. it really saves on the cleanup.  \n",
      "\n",
      "\n",
      "\n",
      "recipe from peggy at whatscookingamerica.net\n",
      "\n",
      "Рецепт ID: 287008\n",
      "Описание рецепта (27 предложений):\n",
      "a translucent golden-brown crust allows the green of the avocado to be seen.  the crispy exterior is a counterpoint to the unctuous interior.  these are a signature dish for me, and the one i most often get requests to make (although my seafood and ricotta stuffed buckwheat pancakes run a close second).\n",
      "\n",
      "these fritters came about ten years ago when i was shopping for a dinner i was making for a friend who is a cia-trained chef.  i was in a vegetable market and saw these gorgeous avocados that i just knew would be ripe in the next two days.  i tried to think of what i could do with them since a) everyone serves cold avocado, and b) i really am not fond of guacamole.  as i tried to think of what i could make with them that was hot, the work 'fritters' jumped into my head.  having never made a fritter before, i was a little surprised to have that thought; but having never known when a vegetable was going to be ripe before i figured i was on a roll and decided to go for it.\n",
      "\n",
      "to serve with my never-before-tried-fritters, i decided to make a crème fraîche-lime-cayenne dipping sauce.  so i made fresh crème fraîche, and used it as a base not only for this dip, but for a tia maria sauce to go with the flourless chocolate cake i made for dessert (another never-before made item, but with the recipe from cook's illustrated it was the only thing i wasn't making up as i went along).\n",
      "\n",
      "the result of the fritters was that i got to taste the test fritter, then had to dive across the couch before the last one was devoured in order to have a second.\n",
      "\n",
      "the one evolution in the recipe is the change from cayenne to chipotle in the dip.  i like the smokiness, and it gives a rough edge to something very smooth - i am all about contrast.  feel free to use whatever chile or combination thereof that you like best.  this dip is easy and stands on it's own at a party for anything you want to dip into it.  i have also made it with vegan sour cream with great results.\n",
      "\n",
      "the name alligator claws comes from an alternate name for the avocado: the alligator pear, as well as the fact that the wedges of avocado look like claws.\n",
      "\n",
      "(for those not familiar with the name alligator pear, it derives from both the tough, textured exterior - reminiscent of an alligator's hide, and the fact that you really can't eat one until it softens - just like a pear.)\n",
      "\n",
      "alligator claws are also a great name to call them if you have kids who either won't eat anything that sounds weird and you want to keep them to yourself, or - if you want your kids to eat them - if you have kids who'll only eat things that will gross other people out.\n",
      "\n",
      "if you are preparing these for kids (and i recommend you do whatever name you choose to call them), protect their palates and tone down the heat of the sauce.  maybe skip the chiles altogether and put in just a hint of finely ground pepper (white pepper won't look like black specks throughout the dip - i'm normally not that fussy, but it's something kids will notice).\n",
      "\n",
      "allow half an avocado per person.  this is so rich that more is too much.\n",
      "\n",
      "note:\n",
      "you can easily cut the recipe in half, all the batter is is a one-to-one mix of flour & water (someone has suggested trying tempura batter which comes in a mix at many supermarkets - i tend to be a from-scratch kind of guy.  or do i just mean itchy?).\n",
      "\n",
      "enjoy.\n",
      "\n",
      "-- text by michael david winter, aka the poker roach\n",
      "\n",
      "Рецепт ID: 328708\n",
      "Описание рецепта (24 предложений):\n",
      "this is one of the best soups i've ever made and it is even worthy of company.  so simple, yet rich in deep, mushroomy flavor.  the inspiration was zaar #26877, a delicious mushroom rice casserole.  i found i couldn't stop eating the liquid before putting the casserole into the oven and that gave me the idea that the base  would make a delicious soup.  and it does! \n",
      "use plenty of fresh mushrooms.  i buy them when they are marked 1/2 price at the grocery, as this is a good way to use your 'shrooms that are starting to get dark.  it is the soy sauce that transforms the broth from ho-hum to yum.  i try to use low sodium or home-made no sodium chicken broth so that i can use the soy for the sodium.  there is no sense of \"asian\" in this soup at all.  ( i would not make this without the soy. )  just a little bit adds the depth of flavor and even color that transforms the soup.\n",
      "\n",
      "notes:\n",
      "1. if you want to make it into \"cream of\" just add some evaporated milk...delicious. \n",
      "\n",
      "2.  once i broke up a leftover ground sirloin burger into my soup bowl and nuked it...was that ever good.\n",
      "\n",
      "3. i did do this recipe with sinewy beef scraps cut from a roast once.  i browned the beef in the bottom of the pan, added the butter and onions and continued as written.  the beef added great color and flavor.  in this case, i threw the beef piece away, because it had too much sinew, but it was a great addition!  i ended up using less soy.\n",
      "\n",
      "4.  i have eye-ball made this soup with amounts i had in the fridge/cupboard and it was great.  so if you don't have that many mushrooms, make it anyway, just keep tasting it until it tastes good to you! \n",
      "\n",
      "5.  i've made it without food-processing the onions, and that worked just as well.\n",
      "\n",
      " lots of flexibility here!  try it, it might be the best barley mushroom soup you've ever had!\n",
      "\n",
      "Рецепт ID: 205348\n",
      "Описание рецепта (23 предложений):\n",
      "i wrote this because there are an astounding lack of chocolate tea recipes on the internet. \n",
      "\n",
      " the first time i heard about chocolate tea was doing a web search on chocolate. there seem to be a few companies out there who sell chocolate tea. i like to stay up late and had run out of coffee. i was in real need for a good tasting caffene beverage. i first thought chocolate tea would be yucky. we are conditioned to accept chocolate with coffee as a rule but not tea. i was very mistaken! \n",
      "\n",
      " tea and chocolate goes very well with each other and it is also very good for your body. both tea and chocolate are loaded with antioxidents. you may however not want to give this to small children because of the caffene. \n",
      "\n",
      " not having a recipe to follow, i created one. (this one) i used these ingredients because i had them on hand and it was quicker than hunting around for my pepermint extract or messing with my powered cocoa.\n",
      "\n",
      " this being said, if you do want to use powered cocoa or pepermint extract instead of the ovaltine and lifesavers please do so. experiment. this recipe is \"opensource\" :-)\n",
      "\n",
      " you will have to adjust the sugar levels to taste. if you like you can even omit the mints. i used them and i find it gives the beverage that spceial something.\n",
      "\n",
      "this recipe makes one large coffee cup of beverage.\n",
      "\n",
      "if you use regular size coffee cups you may get two servings out of this if serving each person one serving each.\n",
      "\n",
      "to serve 1 serving each to 2 or 3 people using large coffee cups, double or tripple the recipie accodingly\n",
      "\n",
      "enjoy !\n",
      "\n",
      "please let me klnow if you like it! :-)\n",
      "\n",
      "Рецепт ID: 316000\n",
      "Описание рецепта (23 предложений):\n",
      "the first time i made this cake i grated a million pounds of carrots on a knucklebuster.  then they invented cuisinarts!  now it is much faster to shred the carrots on a fine shredding disk and no bloody knuckles!  i have baked it in 8\", 9\", 9x13\" pans so if you want to experiment with pan size it works.  one thing i found was baking and stacking the three layers is tricky.  my favorite way is two 8\" pans for a nice layer cake and an 8\" square pan to put into the freezer for unexpected company. i hope you try this wonderful cake.  update:  in the spirit of carrot cake stories, this cake was invented by a bunny named foo-foo.  he is very famous and even has a hit song which goes like this: sing to the tune of 'down by the station'..........     \n",
      "\n",
      "\n",
      " little bunny foo foo,\n",
      "hopping through the forest,\n",
      "scooping up the field mice,\n",
      "and boppin' 'em on the head.\n",
      "\n",
      "down came the good fairy and she said - \n",
      "\n",
      "\"little bunny foo foo,\n",
      "i don't want to see you,\n",
      "scooping up the field mice,\n",
      "and boppin' 'em on the head.\n",
      "i'll give you three chances,\n",
      "and if you don't behave ...\n",
      "i'll turn you into a goon!\"\n",
      "\n",
      "the next day:\n",
      "\n",
      "little bunny foo foo,\n",
      "hopping through the forest,\n",
      "scooping up the field mice,\n",
      "and boppin' 'em on the head.\n",
      "\n",
      "down came the good fairy and she said:\n",
      "\n",
      "\"little bunny foo foo,\n",
      "i don't want to see you.\n",
      "scooping up the field mice.\n",
      "and boppin' 'em on the head.\n",
      "i'll give you two more chances,\n",
      "and if you don't behave...\n",
      "i'll turn you into a goon!\"\n",
      "\n",
      "the next day:\n",
      "\n",
      "little bunny foo foo,\n",
      "hopping through the forest,\n",
      "scooping up the field mice,\n",
      "and boppin' 'em on the head.\n",
      "\n",
      "down came the good fairy and she said:\n",
      "\n",
      "\"little bunny foo foo,\n",
      "i don't want to see you,\n",
      "scooping up the field mice,\n",
      "and boppin' 'em on the head.\n",
      "i'll give you one more chance,\n",
      "and if you don't behave..........\n",
      "i'll turn you into a goon!\"\n",
      "\n",
      "the next day:\n",
      "\n",
      "little bunny foo foo,\n",
      "hopping through the forest,\n",
      "scooping up the field mice,\n",
      "and boppin' 'em on the head,\n",
      "\n",
      "down came the good fairy and she said\n",
      "\n",
      "\"little bunny foo foo,\n",
      "i don't want to see you,\n",
      "scooping up the field mice,\n",
      "and boppin' 'em on the head.\n",
      "i gave you three chances\n",
      "and you didn't behave\n",
      "now you're a goon! poof!!\"\n",
      "\n",
      "the moral of the story is:\n",
      "hare today, goon tomorrow\n",
      "\n"
     ]
    }
   ],
   "source": [
    "import pandas as pd\n",
    "import nltk\n",
    "from nltk.tokenize import sent_tokenize\n",
    "\n",
    "# Загрузка данных из файла recipes_sample.csv\n",
    "recipes = pd.read_csv('recipes_sample.csv')\n",
    "\n",
    "# Разбиение описаний рецептов на предложения и подсчет количества предложений\n",
    "# Применяем функцию sent_tokenize к каждому описанию рецепта, создавая новый столбец 'sentences'\n",
    "# Если значение описания не является пустым, иначе - пустой список\n",
    "recipes['sentences'] = recipes['description'].apply(lambda x: sent_tokenize(x) if pd.notnull(x) else [])\n",
    "\n",
    "# Подсчет количества предложений в каждом рецепте и создание нового столбца 'num_sentences'\n",
    "recipes['num_sentences'] = recipes['sentences'].apply(len)\n",
    "\n",
    "# Находим 5 рецептов с самыми длинными описаниями (по количеству предложений)\n",
    "# Выбираем 5 рецептов с наибольшим значением 'num_sentences' и сохраняем их в новый DataFrame\n",
    "top_5_longest_recipes = recipes.nlargest(5, 'num_sentences')\n",
    "\n",
    "# Вывод строк фрейма, соответствующих этим рецепта\n",
    "print(\"5 самых длинных описаний рецептов в порядке убывания длины:\")\n",
    "# Проходимся по каждой строке в DataFrame с 5 самыми длинными описаниями\n",
    "for index, row in top_5_longest_recipes.iterrows():\n",
    "    # Выводим ID рецепта и его описание с количеством предложений\n",
    "    print(f\"Рецепт ID: {row['id']}\")\n",
    "    print(f\"Описание рецепта ({row['num_sentences']} предложений):\\n{row['description']}\\n\")"
   ]
  },
  {
   "cell_type": "markdown",
   "metadata": {},
   "source": [
    "8\\. Напишите функцию, которая для заданного предложения выводит информацию о частях речи слов, входящих в предложение, в следующем виде:\n",
    "```\n",
    "PRP   VBD   DT      NNS     CC   VBD      NNS        RB   \n",
    " I  omitted the raspberries and added strawberries instead\n",
    "``` \n",
    "Для определения части речи слова можно воспользоваться `nltk.pos_tag`.\n",
    "\n",
    "Проверьте работоспособность функции на названии рецепта с id 241106.\n",
    "\n",
    "Обратите внимание, что часть речи должна находиться ровно посередине над соотвествующим словом, а между самими словами должен быть ровно один пробел.\n"
   ]
  },
  {
   "cell_type": "code",
   "execution_count": 104,
   "metadata": {
    "scrolled": true
   },
   "outputs": [
    {
     "name": "stdout",
     "output_type": "stream",
     "text": [
      "   JJ     NNS    IN     NNS    VBP    JJ   CC   JJ    NNS  \n",
      "eggplant steaks with chickpeas feta cheese and black olives\n"
     ]
    }
   ],
   "source": [
    "import nltk\n",
    "\n",
    "def pos_info(sentence):\n",
    "    # Разбиваем предложение на слова\n",
    "    words = nltk.word_tokenize(sentence)\n",
    "    # Определяем части речи для каждого слова\n",
    "    pos_tags = nltk.pos_tag(words)\n",
    "    \n",
    "    # Форматируем результат\n",
    "    formatted_pos_tags = []\n",
    "    formatted_words = []\n",
    "    for word, pos_tag in pos_tags:\n",
    "        # Определяем количество пробелов для выравнивания\n",
    "        num_spaces_before = (len(word) - len(pos_tag)) // 2\n",
    "        num_spaces_after = len(word) - len(pos_tag) - num_spaces_before\n",
    "        formatted_pos_tags.append(f\"{' ' * num_spaces_before}{pos_tag}{' ' * num_spaces_after}\")\n",
    "        formatted_words.append(word)\n",
    "\n",
    "    # Возвращаем результат в две строки\n",
    "    return ' '.join(formatted_pos_tags), ' '.join(formatted_words)\n",
    "\n",
    "# Пример использования\n",
    "recipe_title = \"eggplant steaks with chickpeas feta cheese and black olives\"\n",
    "pos_tags, words = pos_info(recipe_title)\n",
    "print(pos_tags)\n",
    "print(words)"
   ]
  }
 ],
 "metadata": {
  "kernelspec": {
   "display_name": "Python 3 (ipykernel)",
   "language": "python",
   "name": "python3"
  },
  "language_info": {
   "codemirror_mode": {
    "name": "ipython",
    "version": 3
   },
   "file_extension": ".py",
   "mimetype": "text/x-python",
   "name": "python",
   "nbconvert_exporter": "python",
   "pygments_lexer": "ipython3",
   "version": "3.11.5"
  }
 },
 "nbformat": 4,
 "nbformat_minor": 4
}
